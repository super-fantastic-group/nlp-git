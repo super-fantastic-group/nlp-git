{
 "cells": [
  {
   "cell_type": "code",
   "execution_count": 1,
   "metadata": {},
   "outputs": [],
   "source": [
    "import acquire, prepare, model"
   ]
  },
  {
   "cell_type": "code",
   "execution_count": 40,
   "metadata": {},
   "outputs": [],
   "source": [
    "from sklearn.feature_extraction.text import CountVectorizer\n",
    "from sklearn.feature_extraction.text import TfidfVectorizer\n",
    "from sklearn.feature_extraction.text import TfidfTransformer\n",
    "from sklearn.model_selection import train_test_split\n",
    "from sklearn.tree import DecisionTreeClassifier"
   ]
  },
  {
   "cell_type": "code",
   "execution_count": 4,
   "metadata": {},
   "outputs": [],
   "source": [
    "from sklearn.naive_bayes import MultinomialNB"
   ]
  },
  {
   "cell_type": "code",
   "execution_count": 5,
   "metadata": {},
   "outputs": [],
   "source": [
    "from sklearn.pipeline import Pipeline"
   ]
  },
  {
   "cell_type": "code",
   "execution_count": 6,
   "metadata": {},
   "outputs": [],
   "source": [
    "import pandas as pd"
   ]
  },
  {
   "cell_type": "code",
   "execution_count": 92,
   "metadata": {},
   "outputs": [],
   "source": [
    "df1 = acquire.get_corpus('data_final.json')\n",
    "df2 = pd.read_json('data_second.json')\n",
    "frames = [df1,df2]\n",
    "df = pd.concat(frames)"
   ]
  },
  {
   "cell_type": "code",
   "execution_count": 148,
   "metadata": {},
   "outputs": [],
   "source": [
    "df['prepared'] = df.readme.apply(prepare.basic_clean).apply(prepare.remove_stopwords).apply(prepare.lemmatize)"
   ]
  },
  {
   "cell_type": "code",
   "execution_count": 149,
   "metadata": {},
   "outputs": [],
   "source": [
    "df = prepare.cut_singles(df)"
   ]
  },
  {
   "cell_type": "code",
   "execution_count": 150,
   "metadata": {},
   "outputs": [
    {
     "data": {
      "text/html": [
       "<div>\n",
       "<style scoped>\n",
       "    .dataframe tbody tr th:only-of-type {\n",
       "        vertical-align: middle;\n",
       "    }\n",
       "\n",
       "    .dataframe tbody tr th {\n",
       "        vertical-align: top;\n",
       "    }\n",
       "\n",
       "    .dataframe thead th {\n",
       "        text-align: right;\n",
       "    }\n",
       "</style>\n",
       "<table border=\"1\" class=\"dataframe\">\n",
       "  <thead>\n",
       "    <tr style=\"text-align: right;\">\n",
       "      <th></th>\n",
       "      <th>repo</th>\n",
       "      <th>language</th>\n",
       "      <th>readme</th>\n",
       "      <th>prepared</th>\n",
       "    </tr>\n",
       "  </thead>\n",
       "  <tbody>\n",
       "    <tr>\n",
       "      <th>0</th>\n",
       "      <td>freeCodeCamp/freeCodeCamp</td>\n",
       "      <td>JavaScript</td>\n",
       "      <td>\\n\\n\\n\\n\\n\\nfreeCodeCamp.org's open-source cod...</td>\n",
       "      <td>freecodecamporg's opensource codebase curricul...</td>\n",
       "    </tr>\n",
       "    <tr>\n",
       "      <th>2</th>\n",
       "      <td>vuejs/vue</td>\n",
       "      <td>JavaScript</td>\n",
       "      <td>\\n\\n\\n\\n\\n\\n\\n\\n\\n\\n\\n\\nSupporting Vue.js\\nVue...</td>\n",
       "      <td>supporting vuejs vuejs mitlicensed open source...</td>\n",
       "    </tr>\n",
       "    <tr>\n",
       "      <th>3</th>\n",
       "      <td>facebook/react</td>\n",
       "      <td>JavaScript</td>\n",
       "      <td>\\nReact ·    \\nReact is a JavaScript library f...</td>\n",
       "      <td>react react javascript library building user i...</td>\n",
       "    </tr>\n",
       "    <tr>\n",
       "      <th>4</th>\n",
       "      <td>tensorflow/tensorflow</td>\n",
       "      <td>C++</td>\n",
       "      <td>\\n\\n\\n\\n\\n\\n\\nDocumentation\\n\\n\\n\\n\\n\\n\\n\\n\\nT...</td>\n",
       "      <td>documentation tensorflow endtoend open source ...</td>\n",
       "    </tr>\n",
       "    <tr>\n",
       "      <th>5</th>\n",
       "      <td>twbs/bootstrap</td>\n",
       "      <td>JavaScript</td>\n",
       "      <td>\\n\\n\\n\\n\\n\\nBootstrap\\n\\n  Sleek, intuitive, a...</td>\n",
       "      <td>bootstrap sleek intuitive powerful frontend fr...</td>\n",
       "    </tr>\n",
       "  </tbody>\n",
       "</table>\n",
       "</div>"
      ],
      "text/plain": [
       "                        repo    language  \\\n",
       "0  freeCodeCamp/freeCodeCamp  JavaScript   \n",
       "2                  vuejs/vue  JavaScript   \n",
       "3             facebook/react  JavaScript   \n",
       "4      tensorflow/tensorflow         C++   \n",
       "5             twbs/bootstrap  JavaScript   \n",
       "\n",
       "                                              readme  \\\n",
       "0  \\n\\n\\n\\n\\n\\nfreeCodeCamp.org's open-source cod...   \n",
       "2  \\n\\n\\n\\n\\n\\n\\n\\n\\n\\n\\n\\nSupporting Vue.js\\nVue...   \n",
       "3  \\nReact ·    \\nReact is a JavaScript library f...   \n",
       "4  \\n\\n\\n\\n\\n\\n\\nDocumentation\\n\\n\\n\\n\\n\\n\\n\\n\\nT...   \n",
       "5  \\n\\n\\n\\n\\n\\nBootstrap\\n\\n  Sleek, intuitive, a...   \n",
       "\n",
       "                                            prepared  \n",
       "0  freecodecamporg's opensource codebase curricul...  \n",
       "2  supporting vuejs vuejs mitlicensed open source...  \n",
       "3  react react javascript library building user i...  \n",
       "4  documentation tensorflow endtoend open source ...  \n",
       "5  bootstrap sleek intuitive powerful frontend fr...  "
      ]
     },
     "execution_count": 150,
     "metadata": {},
     "output_type": "execute_result"
    }
   ],
   "source": [
    "df.head()"
   ]
  },
  {
   "cell_type": "code",
   "execution_count": 151,
   "metadata": {},
   "outputs": [],
   "source": [
    "tfidf = TfidfVectorizer()"
   ]
  },
  {
   "cell_type": "code",
   "execution_count": 152,
   "metadata": {},
   "outputs": [],
   "source": [
    "tfidfs = tfidf.fit_transform(df.prepared)"
   ]
  },
  {
   "cell_type": "code",
   "execution_count": 153,
   "metadata": {},
   "outputs": [],
   "source": [
    "X = pd.DataFrame(tfidfs.todense(), columns=tfidf.get_feature_names())"
   ]
  },
  {
   "cell_type": "code",
   "execution_count": 155,
   "metadata": {},
   "outputs": [],
   "source": [
    "y = df.language"
   ]
  },
  {
   "cell_type": "code",
   "execution_count": 156,
   "metadata": {},
   "outputs": [
    {
     "data": {
      "text/plain": [
       "JavaScript    59\n",
       "None          29\n",
       "Python        21\n",
       "Java          15\n",
       "C++           12\n",
       "Go             9\n",
       "TypeScript     9\n",
       "CSS            5\n",
       "C              4\n",
       "Ruby           3\n",
       "Name: language, dtype: int64"
      ]
     },
     "execution_count": 156,
     "metadata": {},
     "output_type": "execute_result"
    }
   ],
   "source": [
    "y.value_counts()"
   ]
  },
  {
   "cell_type": "code",
   "execution_count": 195,
   "metadata": {},
   "outputs": [],
   "source": [
    "X_train, X_test, y_train, y_test = train_test_split(X, y, stratify=y, test_size=.25)"
   ]
  },
  {
   "cell_type": "code",
   "execution_count": 158,
   "metadata": {},
   "outputs": [
    {
     "data": {
      "text/plain": [
       "(124, 34360)"
      ]
     },
     "execution_count": 158,
     "metadata": {},
     "output_type": "execute_result"
    }
   ],
   "source": [
    "X_train.shape"
   ]
  },
  {
   "cell_type": "code",
   "execution_count": 159,
   "metadata": {},
   "outputs": [
    {
     "data": {
      "text/plain": [
       "(42, 34360)"
      ]
     },
     "execution_count": 159,
     "metadata": {},
     "output_type": "execute_result"
    }
   ],
   "source": [
    "X_test.shape"
   ]
  },
  {
   "cell_type": "code",
   "execution_count": 160,
   "metadata": {},
   "outputs": [
    {
     "data": {
      "text/plain": [
       "(124,)"
      ]
     },
     "execution_count": 160,
     "metadata": {},
     "output_type": "execute_result"
    }
   ],
   "source": [
    "y_train.shape"
   ]
  },
  {
   "cell_type": "code",
   "execution_count": 161,
   "metadata": {},
   "outputs": [
    {
     "data": {
      "text/plain": [
       "(42,)"
      ]
     },
     "execution_count": 161,
     "metadata": {},
     "output_type": "execute_result"
    }
   ],
   "source": [
    "y_test.shape"
   ]
  },
  {
   "cell_type": "code",
   "execution_count": 162,
   "metadata": {},
   "outputs": [],
   "source": [
    "train = pd.DataFrame(dict(actual=y_train))\n",
    "test = pd.DataFrame(dict(actual=y_test))"
   ]
  },
  {
   "cell_type": "code",
   "execution_count": 163,
   "metadata": {},
   "outputs": [
    {
     "data": {
      "text/plain": [
       "(124, 1)"
      ]
     },
     "execution_count": 163,
     "metadata": {},
     "output_type": "execute_result"
    }
   ],
   "source": [
    "train.shape"
   ]
  },
  {
   "cell_type": "code",
   "execution_count": 164,
   "metadata": {},
   "outputs": [
    {
     "data": {
      "text/plain": [
       "(42, 1)"
      ]
     },
     "execution_count": 164,
     "metadata": {},
     "output_type": "execute_result"
    }
   ],
   "source": [
    "test.shape"
   ]
  },
  {
   "cell_type": "code",
   "execution_count": 179,
   "metadata": {},
   "outputs": [],
   "source": [
    "#THE CLASSIFIER! 5 is the best depth\n",
    "tree = DecisionTreeClassifier(max_depth=5).fit(X_train, y_train,)"
   ]
  },
  {
   "cell_type": "code",
   "execution_count": 183,
   "metadata": {},
   "outputs": [],
   "source": [
    "training_predictions = tree.predict(X_train)\n",
    "\n",
    "train['predictions'] = training_predictions\n",
    "\n",
    "test_predictions = tree.predict(X_test)\n",
    "\n",
    "test['predictions'] = test_predictions"
   ]
  },
  {
   "cell_type": "code",
   "execution_count": 184,
   "metadata": {},
   "outputs": [
    {
     "name": "stdout",
     "output_type": "stream",
     "text": [
      "Accuracy: 82.26%\n",
      "---\n",
      "Confusion Matrix\n",
      "actual       C  C++  CSS  Go  Java  JavaScript  None  Python  Ruby  TypeScript\n",
      "predictions                                                                   \n",
      "C++          1    9    2   0     1           3     4       2     0           3\n",
      "CSS          0    0    2   0     0           0     0       0     0           0\n",
      "Go           2    0    0   7     0           0     0       1     2           0\n",
      "Java         0    0    0   0    10           0     0       0     0           0\n",
      "JavaScript   0    0    0   0     0          41     0       0     0           1\n",
      "None         0    0    0   0     0           0    17       0     0           0\n",
      "Python       0    0    0   0     0           0     0      13     0           0\n",
      "TypeScript   0    0    0   0     0           0     0       0     0           3\n",
      "---\n",
      "              precision    recall  f1-score   support\n",
      "\n",
      "           C       0.00      0.00      0.00         3\n",
      "         C++       0.36      1.00      0.53         9\n",
      "         CSS       1.00      0.50      0.67         4\n",
      "          Go       0.58      1.00      0.74         7\n",
      "        Java       1.00      0.91      0.95        11\n",
      "  JavaScript       0.98      0.93      0.95        44\n",
      "        None       1.00      0.81      0.89        21\n",
      "      Python       1.00      0.81      0.90        16\n",
      "        Ruby       0.00      0.00      0.00         2\n",
      "  TypeScript       1.00      0.43      0.60         7\n",
      "\n",
      "    accuracy                           0.82       124\n",
      "   macro avg       0.69      0.64      0.62       124\n",
      "weighted avg       0.88      0.82      0.83       124\n",
      "\n"
     ]
    },
    {
     "name": "stderr",
     "output_type": "stream",
     "text": [
      "/usr/local/anaconda3/lib/python3.7/site-packages/sklearn/metrics/classification.py:1437: UndefinedMetricWarning: Precision and F-score are ill-defined and being set to 0.0 in labels with no predicted samples.\n",
      "  'precision', 'predicted', average, warn_for)\n"
     ]
    }
   ],
   "source": [
    "model.score_your_model(train.actual, train.predictions)"
   ]
  },
  {
   "cell_type": "code",
   "execution_count": 185,
   "metadata": {},
   "outputs": [
    {
     "name": "stdout",
     "output_type": "stream",
     "text": [
      "Accuracy: 50.00%\n",
      "---\n",
      "Confusion Matrix\n",
      "actual       C  C++  CSS  Go  Java  JavaScript  None  Python  Ruby  TypeScript\n",
      "predictions                                                                   \n",
      "C++          0    1    0   1     1           1     2       2     1           0\n",
      "CSS          0    0    0   0     0           0     1       0     0           0\n",
      "Go           1    1    0   1     0           0     0       0     0           1\n",
      "Java         0    0    0   0     3           0     1       0     0           0\n",
      "JavaScript   0    1    1   0     0          11     1       1     0           0\n",
      "None         0    0    0   0     0           1     2       0     0           0\n",
      "Python       0    0    0   0     0           1     1       2     0           0\n",
      "TypeScript   0    0    0   0     0           1     0       0     0           1\n",
      "---\n",
      "              precision    recall  f1-score   support\n",
      "\n",
      "           C       0.00      0.00      0.00         1\n",
      "         C++       0.11      0.33      0.17         3\n",
      "         CSS       0.00      0.00      0.00         1\n",
      "          Go       0.25      0.50      0.33         2\n",
      "        Java       0.75      0.75      0.75         4\n",
      "  JavaScript       0.73      0.73      0.73        15\n",
      "        None       0.67      0.25      0.36         8\n",
      "      Python       0.50      0.40      0.44         5\n",
      "        Ruby       0.00      0.00      0.00         1\n",
      "  TypeScript       0.50      0.50      0.50         2\n",
      "\n",
      "    accuracy                           0.50        42\n",
      "   macro avg       0.35      0.35      0.33        42\n",
      "weighted avg       0.56      0.50      0.51        42\n",
      "\n"
     ]
    }
   ],
   "source": [
    "model.score_your_model(test.actual, test.predictions)"
   ]
  },
  {
   "cell_type": "code",
   "execution_count": 142,
   "metadata": {},
   "outputs": [],
   "source": [
    "def make_model_components(feature_variable, target_variable, test_size=.25):\n",
    "    \"\"\"\n",
    "    Takes the one column as the feature matrix, one column as target variable. Splits them into test-train.\n",
    "    Creates a dataframe for the Test and Train of the target variables (y_train, y_test)\n",
    "    \"\"\"\n",
    "    tfidf = TfidfVectorizer()\n",
    "    tfidfs = tfidf.fit_transform(feature_variable.values)\n",
    "    X = pd.DataFrame(tfidfs.todense(), columns=tfidf.get_feature_names())\n",
    "    y = target_variable\n",
    "    X_train, X_test, y_train, y_test = train_test_split(X, y, stratify=y, test_size=test_size)\n",
    "    train = pd.DataFrame(dict(actual=y_train))\n",
    "    test = pd.DataFrame(dict(actual=y_test))\n",
    "    return X_train, X_test, train, test"
   ]
  },
  {
   "cell_type": "code",
   "execution_count": 143,
   "metadata": {},
   "outputs": [],
   "source": [
    "X_train, X_test, train, test = make_model_components(df.prepared, df.language)"
   ]
  },
  {
   "cell_type": "code",
   "execution_count": 144,
   "metadata": {},
   "outputs": [
    {
     "data": {
      "text/plain": [
       "(124, 19319)"
      ]
     },
     "execution_count": 144,
     "metadata": {},
     "output_type": "execute_result"
    }
   ],
   "source": [
    "X_train.shape"
   ]
  },
  {
   "cell_type": "code",
   "execution_count": 145,
   "metadata": {},
   "outputs": [
    {
     "data": {
      "text/plain": [
       "(124, 1)"
      ]
     },
     "execution_count": 145,
     "metadata": {},
     "output_type": "execute_result"
    }
   ],
   "source": [
    "train.shape"
   ]
  },
  {
   "cell_type": "code",
   "execution_count": 146,
   "metadata": {},
   "outputs": [
    {
     "data": {
      "text/plain": [
       "(42, 19319)"
      ]
     },
     "execution_count": 146,
     "metadata": {},
     "output_type": "execute_result"
    }
   ],
   "source": [
    "X_test.shape"
   ]
  },
  {
   "cell_type": "code",
   "execution_count": 147,
   "metadata": {},
   "outputs": [
    {
     "data": {
      "text/plain": [
       "(42, 1)"
      ]
     },
     "execution_count": 147,
     "metadata": {},
     "output_type": "execute_result"
    }
   ],
   "source": [
    "test.shape"
   ]
  },
  {
   "cell_type": "code",
   "execution_count": null,
   "metadata": {},
   "outputs": [],
   "source": [
    "#tfidf = TfidfVectorizer()\n",
    "#tfidfs = tfidf.fit_transform(feature_variable.values)\n",
    "#X = pd.DataFrame(tfidfs.todense(), columns=tfidf.get_feature_names())\n",
    "#y = target_variable\n",
    "#X_train, X_test, y_train, y_test = train_test_split(X, y, stratify=y, test_size=test_size)\n",
    "#train = pd.DataFrame(dict(actual=y_train))\n",
    "#test = pd.DataFrame(dict(actual=y_test))\n",
    "#return X_train, X_test, train, test"
   ]
  },
  {
   "cell_type": "code",
   "execution_count": null,
   "metadata": {},
   "outputs": [],
   "source": [
    "# def run_the_tree_model(X,y,depth=7):\n",
    "#     \"\"\"\n",
    "#     We'll have to pick some classification models to use on the train-test sets.\n",
    "#     \"\"\"\n",
    "#     #tree = DecisionTreeClassifier(max_depth=depth).fit(X, y)\n",
    "#     predictions = tree.predict(X)\n",
    "#     return predictions"
   ]
  }
 ],
 "metadata": {
  "kernelspec": {
   "display_name": "Python 3",
   "language": "python",
   "name": "python3"
  },
  "language_info": {
   "codemirror_mode": {
    "name": "ipython",
    "version": 3
   },
   "file_extension": ".py",
   "mimetype": "text/x-python",
   "name": "python",
   "nbconvert_exporter": "python",
   "pygments_lexer": "ipython3",
   "version": "3.7.3"
  }
 },
 "nbformat": 4,
 "nbformat_minor": 2
}
