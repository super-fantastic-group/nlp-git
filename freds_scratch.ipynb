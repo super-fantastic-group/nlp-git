{
 "cells": [
  {
   "cell_type": "code",
   "execution_count": 1,
   "metadata": {},
   "outputs": [],
   "source": [
    "import acquire, prepare, model"
   ]
  },
  {
   "cell_type": "code",
   "execution_count": 2,
   "metadata": {},
   "outputs": [],
   "source": [
    "df = acquire.get_corpus()\n",
    "\n",
    "df['clean_and_lem'] = df.readme.apply(prepare.basic_clean).apply(prepare.lemmatize)\n",
    "\n",
    "df = prepare.cut_singles(df)"
   ]
  },
  {
   "cell_type": "code",
   "execution_count": null,
   "metadata": {},
   "outputs": [],
   "source": [
    "#HOLD until we try it without it\n",
    "##\n",
    "#df['encoded_language'] = model.encode_categories(df.language)"
   ]
  },
  {
   "cell_type": "code",
   "execution_count": 9,
   "metadata": {},
   "outputs": [],
   "source": [
    "X_train, X_test, train, test = model.make_model_components(df.clean_and_lem, df.language, .3)"
   ]
  },
  {
   "cell_type": "code",
   "execution_count": 10,
   "metadata": {},
   "outputs": [],
   "source": [
    "predictons = model.run_the_tree_model(X_train, train.actual, 6)"
   ]
  },
  {
   "cell_type": "code",
   "execution_count": 11,
   "metadata": {},
   "outputs": [],
   "source": [
    "train['predictions'] = predictons"
   ]
  },
  {
   "cell_type": "code",
   "execution_count": 12,
   "metadata": {},
   "outputs": [
    {
     "name": "stdout",
     "output_type": "stream",
     "text": [
      "Accuracy: 90.48%\n",
      "---\n",
      "Confusion Matrix\n",
      "actual       C  C++  Go  Java  JavaScript  None  Python  Rust  TypeScript  Vue\n",
      "predictions                                                                   \n",
      "C            1    0   0     0           0     0       0     0           0    0\n",
      "C++          0    3   0     0           0     0       0     0           0    0\n",
      "Go           0    0   3     0           0     0       0     0           0    0\n",
      "Java         0    1   0     6           0     2       0     0           2    1\n",
      "JavaScript   0    0   0     0          24     0       0     0           0    0\n",
      "None         0    0   0     0           0     7       0     0           0    0\n",
      "Python       0    0   0     0           0     0      10     0           0    0\n",
      "Rust         0    0   0     0           0     0       0     1           0    0\n",
      "TypeScript   0    0   0     0           0     0       0     0           2    0\n",
      "---\n",
      "              precision    recall  f1-score   support\n",
      "\n",
      "           C       1.00      1.00      1.00         1\n",
      "         C++       1.00      0.75      0.86         4\n",
      "          Go       1.00      1.00      1.00         3\n",
      "        Java       0.50      1.00      0.67         6\n",
      "  JavaScript       1.00      1.00      1.00        24\n",
      "        None       1.00      0.78      0.88         9\n",
      "      Python       1.00      1.00      1.00        10\n",
      "        Rust       1.00      1.00      1.00         1\n",
      "  TypeScript       1.00      0.50      0.67         4\n",
      "         Vue       0.00      0.00      0.00         1\n",
      "\n",
      "    accuracy                           0.90        63\n",
      "   macro avg       0.85      0.80      0.81        63\n",
      "weighted avg       0.94      0.90      0.90        63\n",
      "\n"
     ]
    },
    {
     "name": "stderr",
     "output_type": "stream",
     "text": [
      "/usr/local/anaconda3/lib/python3.7/site-packages/sklearn/metrics/classification.py:1437: UndefinedMetricWarning: Precision and F-score are ill-defined and being set to 0.0 in labels with no predicted samples.\n",
      "  'precision', 'predicted', average, warn_for)\n"
     ]
    }
   ],
   "source": [
    "model.score_your_model(train.actual, train.predictions)"
   ]
  },
  {
   "cell_type": "code",
   "execution_count": 13,
   "metadata": {},
   "outputs": [],
   "source": [
    "test_predictons = model.run_the_tree_model(X_test, test.actual, 6)\n",
    "test['predictions'] = test_predictons"
   ]
  },
  {
   "cell_type": "code",
   "execution_count": 14,
   "metadata": {},
   "outputs": [
    {
     "name": "stdout",
     "output_type": "stream",
     "text": [
      "Accuracy: 88.89%\n",
      "---\n",
      "Confusion Matrix\n",
      "actual       C  C++  Go  Java  JavaScript  None  Python  Rust  TypeScript  Vue\n",
      "predictions                                                                   \n",
      "C            1    0   0     0           0     0       0     0           0    0\n",
      "C++          0    2   0     0           0     0       0     0           0    0\n",
      "Go           0    0   1     0           0     0       0     1           1    1\n",
      "Java         0    0   0     2           0     0       0     0           0    0\n",
      "JavaScript   0    0   0     0          10     0       0     0           0    0\n",
      "None         0    0   0     0           0     3       0     0           0    0\n",
      "Python       0    0   0     0           0     0       4     0           0    0\n",
      "TypeScript   0    0   0     0           0     0       0     0           1    0\n",
      "---\n",
      "              precision    recall  f1-score   support\n",
      "\n",
      "           C       1.00      1.00      1.00         1\n",
      "         C++       1.00      1.00      1.00         2\n",
      "          Go       0.25      1.00      0.40         1\n",
      "        Java       1.00      1.00      1.00         2\n",
      "  JavaScript       1.00      1.00      1.00        10\n",
      "        None       1.00      1.00      1.00         3\n",
      "      Python       1.00      1.00      1.00         4\n",
      "        Rust       0.00      0.00      0.00         1\n",
      "  TypeScript       1.00      0.50      0.67         2\n",
      "         Vue       0.00      0.00      0.00         1\n",
      "\n",
      "    accuracy                           0.89        27\n",
      "   macro avg       0.72      0.75      0.71        27\n",
      "weighted avg       0.90      0.89      0.88        27\n",
      "\n"
     ]
    },
    {
     "name": "stderr",
     "output_type": "stream",
     "text": [
      "/usr/local/anaconda3/lib/python3.7/site-packages/sklearn/metrics/classification.py:1437: UndefinedMetricWarning: Precision and F-score are ill-defined and being set to 0.0 in labels with no predicted samples.\n",
      "  'precision', 'predicted', average, warn_for)\n"
     ]
    }
   ],
   "source": [
    "model.score_your_model(test.actual, test.predictions)"
   ]
  },
  {
   "cell_type": "code",
   "execution_count": 16,
   "metadata": {},
   "outputs": [],
   "source": [
    "df2 = acquire.get_corpus()\n",
    "\n",
    "df2['clean-lem-no_stop'] = df2.readme.apply(prepare.basic_clean).apply(prepare.remove_stopwords).apply(prepare.lemmatize)\n",
    "\n",
    "df2 = prepare.cut_singles(df2)"
   ]
  },
  {
   "cell_type": "code",
   "execution_count": 18,
   "metadata": {},
   "outputs": [
    {
     "data": {
      "text/html": [
       "<div>\n",
       "<style scoped>\n",
       "    .dataframe tbody tr th:only-of-type {\n",
       "        vertical-align: middle;\n",
       "    }\n",
       "\n",
       "    .dataframe tbody tr th {\n",
       "        vertical-align: top;\n",
       "    }\n",
       "\n",
       "    .dataframe thead th {\n",
       "        text-align: right;\n",
       "    }\n",
       "</style>\n",
       "<table border=\"1\" class=\"dataframe\">\n",
       "  <thead>\n",
       "    <tr style=\"text-align: right;\">\n",
       "      <th></th>\n",
       "      <th>language</th>\n",
       "      <th>readme</th>\n",
       "      <th>repo</th>\n",
       "      <th>clean-lem-no_stop</th>\n",
       "    </tr>\n",
       "  </thead>\n",
       "  <tbody>\n",
       "    <tr>\n",
       "      <th>0</th>\n",
       "      <td>JavaScript</td>\n",
       "      <td>\\n\\n\\n\\n\\n\\nfreeCodeCamp.org's open-source cod...</td>\n",
       "      <td>freeCodeCamp/freeCodeCamp</td>\n",
       "      <td>freecodecamporg's opensource codebase curricul...</td>\n",
       "    </tr>\n",
       "    <tr>\n",
       "      <th>1</th>\n",
       "      <td>Rust</td>\n",
       "      <td>\\n996.ICU\\nPlease note that there exists NO ot...</td>\n",
       "      <td>996icu/996.ICU</td>\n",
       "      <td>996icu please note exists official account app...</td>\n",
       "    </tr>\n",
       "    <tr>\n",
       "      <th>2</th>\n",
       "      <td>JavaScript</td>\n",
       "      <td>\\n\\n\\n\\n\\n\\n\\n\\n\\n\\n\\n\\nSupporting Vue.js\\nVue...</td>\n",
       "      <td>vuejs/vue</td>\n",
       "      <td>supporting vuejs vuejs mitlicensed open source...</td>\n",
       "    </tr>\n",
       "    <tr>\n",
       "      <th>3</th>\n",
       "      <td>JavaScript</td>\n",
       "      <td>\\nReact ·    \\nReact is a JavaScript library f...</td>\n",
       "      <td>facebook/react</td>\n",
       "      <td>react react javascript library building user i...</td>\n",
       "    </tr>\n",
       "    <tr>\n",
       "      <th>4</th>\n",
       "      <td>C++</td>\n",
       "      <td>\\n\\n\\n\\n\\n\\n\\nDocumentation\\n\\n\\n\\n\\n\\n\\n\\n\\nT...</td>\n",
       "      <td>tensorflow/tensorflow</td>\n",
       "      <td>documentation tensorflow endtoend open source ...</td>\n",
       "    </tr>\n",
       "  </tbody>\n",
       "</table>\n",
       "</div>"
      ],
      "text/plain": [
       "     language                                             readme  \\\n",
       "0  JavaScript  \\n\\n\\n\\n\\n\\nfreeCodeCamp.org's open-source cod...   \n",
       "1        Rust  \\n996.ICU\\nPlease note that there exists NO ot...   \n",
       "2  JavaScript  \\n\\n\\n\\n\\n\\n\\n\\n\\n\\n\\n\\nSupporting Vue.js\\nVue...   \n",
       "3  JavaScript  \\nReact ·    \\nReact is a JavaScript library f...   \n",
       "4         C++  \\n\\n\\n\\n\\n\\n\\nDocumentation\\n\\n\\n\\n\\n\\n\\n\\n\\nT...   \n",
       "\n",
       "                        repo  \\\n",
       "0  freeCodeCamp/freeCodeCamp   \n",
       "1             996icu/996.ICU   \n",
       "2                  vuejs/vue   \n",
       "3             facebook/react   \n",
       "4      tensorflow/tensorflow   \n",
       "\n",
       "                                   clean-lem-no_stop  \n",
       "0  freecodecamporg's opensource codebase curricul...  \n",
       "1  996icu please note exists official account app...  \n",
       "2  supporting vuejs vuejs mitlicensed open source...  \n",
       "3  react react javascript library building user i...  \n",
       "4  documentation tensorflow endtoend open source ...  "
      ]
     },
     "execution_count": 18,
     "metadata": {},
     "output_type": "execute_result"
    }
   ],
   "source": [
    "df2.head()"
   ]
  },
  {
   "cell_type": "code",
   "execution_count": 21,
   "metadata": {},
   "outputs": [],
   "source": [
    "X_train, X_test, train, test = model.make_model_components(df2['clean-lem-no_stop'], df2.language)"
   ]
  },
  {
   "cell_type": "code",
   "execution_count": 23,
   "metadata": {},
   "outputs": [],
   "source": [
    "predictons2 = model.run_the_tree_model(X_train, train.actual, 6)"
   ]
  },
  {
   "cell_type": "code",
   "execution_count": 24,
   "metadata": {},
   "outputs": [],
   "source": [
    "train['predictions'] = predictons2"
   ]
  },
  {
   "cell_type": "code",
   "execution_count": 25,
   "metadata": {},
   "outputs": [
    {
     "name": "stdout",
     "output_type": "stream",
     "text": [
      "Accuracy: 83.33%\n",
      "---\n",
      "Confusion Matrix\n",
      "actual       C  C++  Go  Java  JavaScript  None  Python  Rust  TypeScript  Vue\n",
      "predictions                                                                   \n",
      "C            2    2   2     1           2     1       1     1           0    2\n",
      "C++          0    3   0     0           0     0       0     0           0    0\n",
      "Go           0    0   1     0           0     0       0     0           0    0\n",
      "Java         0    0   0     5           0     0       0     0           0    0\n",
      "JavaScript   0    0   0     0          25     0       0     0           0    0\n",
      "None         0    0   0     0           0     8       0     0           0    0\n",
      "Python       0    0   0     0           0     0      10     0           0    0\n",
      "Rust         0    0   0     0           0     0       0     1           0    0\n",
      "TypeScript   0    0   0     0           0     0       0     0           5    0\n",
      "---\n",
      "              precision    recall  f1-score   support\n",
      "\n",
      "           C       0.14      1.00      0.25         2\n",
      "         C++       1.00      0.60      0.75         5\n",
      "          Go       1.00      0.33      0.50         3\n",
      "        Java       1.00      0.83      0.91         6\n",
      "  JavaScript       1.00      0.93      0.96        27\n",
      "        None       1.00      0.89      0.94         9\n",
      "      Python       1.00      0.91      0.95        11\n",
      "        Rust       1.00      0.50      0.67         2\n",
      "  TypeScript       1.00      1.00      1.00         5\n",
      "         Vue       0.00      0.00      0.00         2\n",
      "\n",
      "    accuracy                           0.83        72\n",
      "   macro avg       0.81      0.70      0.69        72\n",
      "weighted avg       0.95      0.83      0.87        72\n",
      "\n"
     ]
    },
    {
     "name": "stderr",
     "output_type": "stream",
     "text": [
      "/usr/local/anaconda3/lib/python3.7/site-packages/sklearn/metrics/classification.py:1437: UndefinedMetricWarning: Precision and F-score are ill-defined and being set to 0.0 in labels with no predicted samples.\n",
      "  'precision', 'predicted', average, warn_for)\n"
     ]
    }
   ],
   "source": [
    "model.score_your_model(train.actual, train.predictions)"
   ]
  },
  {
   "cell_type": "code",
   "execution_count": 26,
   "metadata": {},
   "outputs": [],
   "source": [
    "test_predictons2 = model.run_the_tree_model(X_test, test.actual, 6)\n",
    "test['predictions'] = test_predictons2"
   ]
  },
  {
   "cell_type": "code",
   "execution_count": 27,
   "metadata": {},
   "outputs": [
    {
     "name": "stdout",
     "output_type": "stream",
     "text": [
      "Accuracy: 100.00%\n",
      "---\n",
      "Confusion Matrix\n",
      "actual       C++  Go  Java  JavaScript  None  Python  TypeScript\n",
      "predictions                                                     \n",
      "C++            1   0     0           0     0       0           0\n",
      "Go             0   1     0           0     0       0           0\n",
      "Java           0   0     2           0     0       0           0\n",
      "JavaScript     0   0     0           7     0       0           0\n",
      "None           0   0     0           0     3       0           0\n",
      "Python         0   0     0           0     0       3           0\n",
      "TypeScript     0   0     0           0     0       0           1\n",
      "---\n",
      "              precision    recall  f1-score   support\n",
      "\n",
      "         C++       1.00      1.00      1.00         1\n",
      "          Go       1.00      1.00      1.00         1\n",
      "        Java       1.00      1.00      1.00         2\n",
      "  JavaScript       1.00      1.00      1.00         7\n",
      "        None       1.00      1.00      1.00         3\n",
      "      Python       1.00      1.00      1.00         3\n",
      "  TypeScript       1.00      1.00      1.00         1\n",
      "\n",
      "    accuracy                           1.00        18\n",
      "   macro avg       1.00      1.00      1.00        18\n",
      "weighted avg       1.00      1.00      1.00        18\n",
      "\n"
     ]
    }
   ],
   "source": [
    "model.score_your_model(test.actual, test.predictions)"
   ]
  },
  {
   "cell_type": "code",
   "execution_count": 1,
   "metadata": {},
   "outputs": [],
   "source": [
    "from requests import get\n",
    "from bs4 import BeautifulSoup\n",
    "\n",
    "import pandas as pd\n",
    "\n",
    "import json\n",
    "import os"
   ]
  },
  {
   "cell_type": "code",
   "execution_count": 8,
   "metadata": {},
   "outputs": [],
   "source": [
    "def scrape_links_one_page(url):\n",
    "    headers = {'User-Agent': 'Codeup Data Science'} \n",
    "    response = get(url, headers=headers)\n",
    "    soup = BeautifulSoup(response.text, 'html.parser')\n",
    "    extension = soup.find_all(\"a\", {\"class\":\"v-align-middle\"}, {\"data-hydro-click\":\"url\"})\n",
    "    extensions = []\n",
    "    for count in range(len(extension)):\n",
    "        extensions.append(\"http://github.com/\" + extension[count].get_text())\n",
    "    return extensions\n",
    "\n",
    "def make_url_list():\n",
    "    \"\"\"\n",
    "    Creates a 10 page list. Each page needs the links to repositories scapes.\n",
    "    \"\"\"\n",
    "    urls = []\n",
    "    for count in range(11,21):\n",
    "        urls.append(\"https://github.com/search?p={}&q=stars%3A%3E100&type=Repositories\".format(count))\n",
    "    return urls\n",
    "\n",
    "\n",
    "def loop_through_urls(url_list):\n",
    "    \"\"\"\n",
    "    Creates a 100 page list. Each element is a link to be scraped of their README.\n",
    "    \"\"\"\n",
    "    big_list = []\n",
    "    for url in url_list:\n",
    "        big_list.extend(scrape_links_one_page(url))\n",
    "    return big_list\n",
    "\n",
    "def get_readme_text(url):\n",
    "    response = get(url)\n",
    "    soup = BeautifulSoup(response.content, 'html.parser')\n",
    "    textboxes = soup.findAll(\"div\", {\"class\": \"Box-body\"})\n",
    "    readme_text = textboxes[0].text\n",
    "\n",
    "    language = soup.find(\"span\", {\"class\": \"lang\"})\n",
    "    if language == None:\n",
    "        language = \"None\"\n",
    "    else:\n",
    "        language = soup.find(\"span\", {\"class\": \"lang\"}).get_text()\n",
    "\n",
    "    return {\n",
    "        \"repo\" : url[18:],\n",
    "        \"language\" : language,\n",
    "        \"readme\" : readme_text\n",
    "    }\n"
   ]
  },
  {
   "cell_type": "code",
   "execution_count": 9,
   "metadata": {},
   "outputs": [],
   "source": [
    "url_list = make_url_list()"
   ]
  },
  {
   "cell_type": "code",
   "execution_count": 10,
   "metadata": {},
   "outputs": [
    {
     "data": {
      "text/plain": [
       "['https://github.com/search?p=11&q=stars%3A%3E100&type=Repositories',\n",
       " 'https://github.com/search?p=12&q=stars%3A%3E100&type=Repositories',\n",
       " 'https://github.com/search?p=13&q=stars%3A%3E100&type=Repositories',\n",
       " 'https://github.com/search?p=14&q=stars%3A%3E100&type=Repositories',\n",
       " 'https://github.com/search?p=15&q=stars%3A%3E100&type=Repositories',\n",
       " 'https://github.com/search?p=16&q=stars%3A%3E100&type=Repositories',\n",
       " 'https://github.com/search?p=17&q=stars%3A%3E100&type=Repositories',\n",
       " 'https://github.com/search?p=18&q=stars%3A%3E100&type=Repositories',\n",
       " 'https://github.com/search?p=19&q=stars%3A%3E100&type=Repositories',\n",
       " 'https://github.com/search?p=20&q=stars%3A%3E100&type=Repositories']"
      ]
     },
     "execution_count": 10,
     "metadata": {},
     "output_type": "execute_result"
    }
   ],
   "source": [
    "url_list"
   ]
  },
  {
   "cell_type": "code",
   "execution_count": 13,
   "metadata": {},
   "outputs": [],
   "source": [
    "big_list = loop_through_urls(url_list)"
   ]
  },
  {
   "cell_type": "code",
   "execution_count": 18,
   "metadata": {},
   "outputs": [],
   "source": [
    "pages10_20 = pd.Series(big_list)"
   ]
  },
  {
   "cell_type": "code",
   "execution_count": 19,
   "metadata": {},
   "outputs": [
    {
     "data": {
      "text/plain": [
       "0                    http://github.com/antirez/redis\n",
       "1                    http://github.com/denoland/deno\n",
       "2                    http://github.com/gohugoio/hugo\n",
       "3                 http://github.com/ionic-team/ionic\n",
       "4     http://github.com/google/material-design-icons\n",
       "                           ...                      \n",
       "85     http://github.com/Trinea/android-open-project\n",
       "86          http://github.com/PhilJay/MPAndroidChart\n",
       "87    http://github.com/tiimgreen/github-cheat-sheet\n",
       "88                   http://github.com/XX-net/XX-Net\n",
       "89         http://github.com/sahat/hackathon-starter\n",
       "Length: 90, dtype: object"
      ]
     },
     "execution_count": 19,
     "metadata": {},
     "output_type": "execute_result"
    }
   ],
   "source": [
    "pages10_20"
   ]
  },
  {
   "cell_type": "code",
   "execution_count": 20,
   "metadata": {},
   "outputs": [],
   "source": [
    "def make_corpus(big_list):\n",
    "    corpus = [get_readme_text(url) for url in big_list]\n",
    "    return corpus"
   ]
  },
  {
   "cell_type": "code",
   "execution_count": 21,
   "metadata": {},
   "outputs": [],
   "source": [
    "corpus2 = make_corpus(big_list)"
   ]
  },
  {
   "cell_type": "code",
   "execution_count": 23,
   "metadata": {},
   "outputs": [],
   "source": [
    "df_corpus2 = pd.DataFrame(corpus2)"
   ]
  },
  {
   "cell_type": "code",
   "execution_count": 24,
   "metadata": {},
   "outputs": [
    {
     "data": {
      "text/html": [
       "<div>\n",
       "<style scoped>\n",
       "    .dataframe tbody tr th:only-of-type {\n",
       "        vertical-align: middle;\n",
       "    }\n",
       "\n",
       "    .dataframe tbody tr th {\n",
       "        vertical-align: top;\n",
       "    }\n",
       "\n",
       "    .dataframe thead th {\n",
       "        text-align: right;\n",
       "    }\n",
       "</style>\n",
       "<table border=\"1\" class=\"dataframe\">\n",
       "  <thead>\n",
       "    <tr style=\"text-align: right;\">\n",
       "      <th></th>\n",
       "      <th>repo</th>\n",
       "      <th>language</th>\n",
       "      <th>readme</th>\n",
       "    </tr>\n",
       "  </thead>\n",
       "  <tbody>\n",
       "    <tr>\n",
       "      <th>0</th>\n",
       "      <td>antirez/redis</td>\n",
       "      <td>C</td>\n",
       "      <td>\\nThis README is just a fast quick start docum...</td>\n",
       "    </tr>\n",
       "    <tr>\n",
       "      <th>1</th>\n",
       "      <td>denoland/deno</td>\n",
       "      <td>TypeScript</td>\n",
       "      <td>\\nDeno\\nA secure runtime for JavaScript and Ty...</td>\n",
       "    </tr>\n",
       "    <tr>\n",
       "      <th>2</th>\n",
       "      <td>gohugoio/hugo</td>\n",
       "      <td>Go</td>\n",
       "      <td>\\n\\nA Fast and Flexible Static Site Generator ...</td>\n",
       "    </tr>\n",
       "    <tr>\n",
       "      <th>3</th>\n",
       "      <td>ionic-team/ionic</td>\n",
       "      <td>TypeScript</td>\n",
       "      <td>\\nIonic\\nIonic is the open-source mobile app d...</td>\n",
       "    </tr>\n",
       "    <tr>\n",
       "      <th>4</th>\n",
       "      <td>google/material-design-icons</td>\n",
       "      <td>CSS</td>\n",
       "      <td>\\nMaterial design icons\\nMaterial design icons...</td>\n",
       "    </tr>\n",
       "    <tr>\n",
       "      <th>...</th>\n",
       "      <td>...</td>\n",
       "      <td>...</td>\n",
       "      <td>...</td>\n",
       "    </tr>\n",
       "    <tr>\n",
       "      <th>85</th>\n",
       "      <td>Trinea/android-open-project</td>\n",
       "      <td>None</td>\n",
       "      <td>\\nAndroid 开源项目分类汇总，更全更新可见 codekk.com\\nOther: E...</td>\n",
       "    </tr>\n",
       "    <tr>\n",
       "      <th>86</th>\n",
       "      <td>PhilJay/MPAndroidChart</td>\n",
       "      <td>Java</td>\n",
       "      <td>\\n\\n\\n\\n\\n\\n\\n⚡️ A powerful &amp; easy to use char...</td>\n",
       "    </tr>\n",
       "    <tr>\n",
       "      <th>87</th>\n",
       "      <td>tiimgreen/github-cheat-sheet</td>\n",
       "      <td>None</td>\n",
       "      <td>\\nGitHub Cheat Sheet \\nA collection of cool hi...</td>\n",
       "    </tr>\n",
       "    <tr>\n",
       "      <th>88</th>\n",
       "      <td>XX-net/XX-Net</td>\n",
       "      <td>Python</td>\n",
       "      <td>\\nXX-Net\\n中文文档      English      فارسی صفحه اص...</td>\n",
       "    </tr>\n",
       "    <tr>\n",
       "      <th>89</th>\n",
       "      <td>sahat/hackathon-starter</td>\n",
       "      <td>JavaScript</td>\n",
       "      <td>\\n\\nHackathon Starter\\n   \\nLive Demo: https:/...</td>\n",
       "    </tr>\n",
       "  </tbody>\n",
       "</table>\n",
       "<p>90 rows × 3 columns</p>\n",
       "</div>"
      ],
      "text/plain": [
       "                            repo    language  \\\n",
       "0                  antirez/redis           C   \n",
       "1                  denoland/deno  TypeScript   \n",
       "2                  gohugoio/hugo          Go   \n",
       "3               ionic-team/ionic  TypeScript   \n",
       "4   google/material-design-icons         CSS   \n",
       "..                           ...         ...   \n",
       "85   Trinea/android-open-project        None   \n",
       "86        PhilJay/MPAndroidChart        Java   \n",
       "87  tiimgreen/github-cheat-sheet        None   \n",
       "88                 XX-net/XX-Net      Python   \n",
       "89       sahat/hackathon-starter  JavaScript   \n",
       "\n",
       "                                               readme  \n",
       "0   \\nThis README is just a fast quick start docum...  \n",
       "1   \\nDeno\\nA secure runtime for JavaScript and Ty...  \n",
       "2   \\n\\nA Fast and Flexible Static Site Generator ...  \n",
       "3   \\nIonic\\nIonic is the open-source mobile app d...  \n",
       "4   \\nMaterial design icons\\nMaterial design icons...  \n",
       "..                                                ...  \n",
       "85  \\nAndroid 开源项目分类汇总，更全更新可见 codekk.com\\nOther: E...  \n",
       "86  \\n\\n\\n\\n\\n\\n\\n⚡️ A powerful & easy to use char...  \n",
       "87  \\nGitHub Cheat Sheet \\nA collection of cool hi...  \n",
       "88  \\nXX-Net\\n中文文档      English      فارسی صفحه اص...  \n",
       "89  \\n\\nHackathon Starter\\n   \\nLive Demo: https:/...  \n",
       "\n",
       "[90 rows x 3 columns]"
      ]
     },
     "execution_count": 24,
     "metadata": {},
     "output_type": "execute_result"
    }
   ],
   "source": [
    "df_corpus2"
   ]
  },
  {
   "cell_type": "code",
   "execution_count": null,
   "metadata": {},
   "outputs": [],
   "source": [
    "def get_corpus():\n",
    "    filename = 'data_second.json'\n",
    "\n",
    "    # check for presence of the file or make a new request\n",
    "    if os.path.exists(filename):\n",
    "        with open(filename) as json_file:\n",
    "            reads = json.load(json_file)\n",
    "        return pd.DataFrame(reads)\n",
    "    else:\n",
    "        data = make_corpus()\n",
    "        with open(filename, 'w') as json_file:\n",
    "            json.dump(data, json_file)\n",
    "        return pd.DataFrame(data)"
   ]
  },
  {
   "cell_type": "code",
   "execution_count": 25,
   "metadata": {},
   "outputs": [],
   "source": [
    "filename = 'data_second.json'"
   ]
  },
  {
   "cell_type": "code",
   "execution_count": 26,
   "metadata": {},
   "outputs": [
    {
     "ename": "TypeError",
     "evalue": "Object of type DataFrame is not JSON serializable",
     "output_type": "error",
     "traceback": [
      "\u001b[0;31m---------------------------------------------------------------------------\u001b[0m",
      "\u001b[0;31mTypeError\u001b[0m                                 Traceback (most recent call last)",
      "\u001b[0;32m<ipython-input-26-2f50ba85caa5>\u001b[0m in \u001b[0;36m<module>\u001b[0;34m\u001b[0m\n\u001b[1;32m      1\u001b[0m \u001b[0;32mwith\u001b[0m \u001b[0mopen\u001b[0m\u001b[0;34m(\u001b[0m\u001b[0mfilename\u001b[0m\u001b[0;34m,\u001b[0m \u001b[0;34m'w'\u001b[0m\u001b[0;34m)\u001b[0m \u001b[0;32mas\u001b[0m \u001b[0mjson_file\u001b[0m\u001b[0;34m:\u001b[0m\u001b[0;34m\u001b[0m\u001b[0;34m\u001b[0m\u001b[0m\n\u001b[0;32m----> 2\u001b[0;31m     \u001b[0mjson\u001b[0m\u001b[0;34m.\u001b[0m\u001b[0mdump\u001b[0m\u001b[0;34m(\u001b[0m\u001b[0mdf_corpus2\u001b[0m\u001b[0;34m,\u001b[0m \u001b[0mjson_file\u001b[0m\u001b[0;34m)\u001b[0m\u001b[0;34m\u001b[0m\u001b[0;34m\u001b[0m\u001b[0m\n\u001b[0m",
      "\u001b[0;32m/usr/local/anaconda3/lib/python3.7/json/__init__.py\u001b[0m in \u001b[0;36mdump\u001b[0;34m(obj, fp, skipkeys, ensure_ascii, check_circular, allow_nan, cls, indent, separators, default, sort_keys, **kw)\u001b[0m\n\u001b[1;32m    177\u001b[0m     \u001b[0;31m# could accelerate with writelines in some versions of Python, at\u001b[0m\u001b[0;34m\u001b[0m\u001b[0;34m\u001b[0m\u001b[0;34m\u001b[0m\u001b[0m\n\u001b[1;32m    178\u001b[0m     \u001b[0;31m# a debuggability cost\u001b[0m\u001b[0;34m\u001b[0m\u001b[0;34m\u001b[0m\u001b[0;34m\u001b[0m\u001b[0m\n\u001b[0;32m--> 179\u001b[0;31m     \u001b[0;32mfor\u001b[0m \u001b[0mchunk\u001b[0m \u001b[0;32min\u001b[0m \u001b[0miterable\u001b[0m\u001b[0;34m:\u001b[0m\u001b[0;34m\u001b[0m\u001b[0;34m\u001b[0m\u001b[0m\n\u001b[0m\u001b[1;32m    180\u001b[0m         \u001b[0mfp\u001b[0m\u001b[0;34m.\u001b[0m\u001b[0mwrite\u001b[0m\u001b[0;34m(\u001b[0m\u001b[0mchunk\u001b[0m\u001b[0;34m)\u001b[0m\u001b[0;34m\u001b[0m\u001b[0;34m\u001b[0m\u001b[0m\n\u001b[1;32m    181\u001b[0m \u001b[0;34m\u001b[0m\u001b[0m\n",
      "\u001b[0;32m/usr/local/anaconda3/lib/python3.7/json/encoder.py\u001b[0m in \u001b[0;36m_iterencode\u001b[0;34m(o, _current_indent_level)\u001b[0m\n\u001b[1;32m    436\u001b[0m                     \u001b[0;32mraise\u001b[0m \u001b[0mValueError\u001b[0m\u001b[0;34m(\u001b[0m\u001b[0;34m\"Circular reference detected\"\u001b[0m\u001b[0;34m)\u001b[0m\u001b[0;34m\u001b[0m\u001b[0;34m\u001b[0m\u001b[0m\n\u001b[1;32m    437\u001b[0m                 \u001b[0mmarkers\u001b[0m\u001b[0;34m[\u001b[0m\u001b[0mmarkerid\u001b[0m\u001b[0;34m]\u001b[0m \u001b[0;34m=\u001b[0m \u001b[0mo\u001b[0m\u001b[0;34m\u001b[0m\u001b[0;34m\u001b[0m\u001b[0m\n\u001b[0;32m--> 438\u001b[0;31m             \u001b[0mo\u001b[0m \u001b[0;34m=\u001b[0m \u001b[0m_default\u001b[0m\u001b[0;34m(\u001b[0m\u001b[0mo\u001b[0m\u001b[0;34m)\u001b[0m\u001b[0;34m\u001b[0m\u001b[0;34m\u001b[0m\u001b[0m\n\u001b[0m\u001b[1;32m    439\u001b[0m             \u001b[0;32myield\u001b[0m \u001b[0;32mfrom\u001b[0m \u001b[0m_iterencode\u001b[0m\u001b[0;34m(\u001b[0m\u001b[0mo\u001b[0m\u001b[0;34m,\u001b[0m \u001b[0m_current_indent_level\u001b[0m\u001b[0;34m)\u001b[0m\u001b[0;34m\u001b[0m\u001b[0;34m\u001b[0m\u001b[0m\n\u001b[1;32m    440\u001b[0m             \u001b[0;32mif\u001b[0m \u001b[0mmarkers\u001b[0m \u001b[0;32mis\u001b[0m \u001b[0;32mnot\u001b[0m \u001b[0;32mNone\u001b[0m\u001b[0;34m:\u001b[0m\u001b[0;34m\u001b[0m\u001b[0;34m\u001b[0m\u001b[0m\n",
      "\u001b[0;32m/usr/local/anaconda3/lib/python3.7/json/encoder.py\u001b[0m in \u001b[0;36mdefault\u001b[0;34m(self, o)\u001b[0m\n\u001b[1;32m    177\u001b[0m \u001b[0;34m\u001b[0m\u001b[0m\n\u001b[1;32m    178\u001b[0m         \"\"\"\n\u001b[0;32m--> 179\u001b[0;31m         raise TypeError(f'Object of type {o.__class__.__name__} '\n\u001b[0m\u001b[1;32m    180\u001b[0m                         f'is not JSON serializable')\n\u001b[1;32m    181\u001b[0m \u001b[0;34m\u001b[0m\u001b[0m\n",
      "\u001b[0;31mTypeError\u001b[0m: Object of type DataFrame is not JSON serializable"
     ]
    }
   ],
   "source": [
    "with open(filename, 'w') as json_file:\n",
    "    json.dump(df_corpus2, json_file)"
   ]
  },
  {
   "cell_type": "code",
   "execution_count": null,
   "metadata": {},
   "outputs": [],
   "source": []
  }
 ],
 "metadata": {
  "kernelspec": {
   "display_name": "Python 3",
   "language": "python",
   "name": "python3"
  },
  "language_info": {
   "codemirror_mode": {
    "name": "ipython",
    "version": 3
   },
   "file_extension": ".py",
   "mimetype": "text/x-python",
   "name": "python",
   "nbconvert_exporter": "python",
   "pygments_lexer": "ipython3",
   "version": "3.7.3"
  }
 },
 "nbformat": 4,
 "nbformat_minor": 2
}
