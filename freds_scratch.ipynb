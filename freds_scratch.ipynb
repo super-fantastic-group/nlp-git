{
 "cells": [
  {
   "cell_type": "code",
   "execution_count": 1,
   "metadata": {},
   "outputs": [],
   "source": [
    "import acquire, prepare, model"
   ]
  },
  {
   "cell_type": "code",
   "execution_count": 4,
   "metadata": {},
   "outputs": [],
   "source": [
    "df = acquire.get_corpus()\n",
    "\n",
    "df['clean_and_lem'] = df.readme.apply(prepare.basic_clean).apply(prepare.lemmatize)\n",
    "\n",
    "df = prepare.cut_singles(df)"
   ]
  },
  {
   "cell_type": "code",
   "execution_count": null,
   "metadata": {},
   "outputs": [],
   "source": [
    "#HOLD until we try it without it\n",
    "df['encoded_language'] = model.encode_categories(df.language)"
   ]
  },
  {
   "cell_type": "code",
   "execution_count": 5,
   "metadata": {},
   "outputs": [],
   "source": [
    "X_train, X_test, train, test = model.make_model_components(df.clean_and_lem, df.language)"
   ]
  },
  {
   "cell_type": "code",
   "execution_count": 6,
   "metadata": {},
   "outputs": [],
   "source": [
    "predictons = model.run_the_tree_model(X_train, train.actual, 6)"
   ]
  },
  {
   "cell_type": "code",
   "execution_count": 7,
   "metadata": {},
   "outputs": [],
   "source": [
    "train['predictions'] = predictons"
   ]
  },
  {
   "cell_type": "code",
   "execution_count": 9,
   "metadata": {},
   "outputs": [
    {
     "name": "stdout",
     "output_type": "stream",
     "text": [
      "Accuracy: 86.11%\n",
      "---\n",
      "Confusion Matrix\n",
      "actual       C  C++  Go  Java  JavaScript  None  Python  Rust  TypeScript  Vue\n",
      "predictions                                                                   \n",
      "C            1    0   0     0           0     0       0     0           0    0\n",
      "C++          0    3   0     0           0     0       0     0           0    0\n",
      "Go           0    0   3     0           0     0       0     0           0    0\n",
      "Java         0    0   0     5           0     0       0     0           0    0\n",
      "JavaScript   0    0   0     0          26     0       0     1           0    1\n",
      "None         0    0   0     0           0     8       0     0           0    0\n",
      "Python       0    0   0     0           0     0      10     0           0    0\n",
      "Rust         0    0   0     0           0     0       0     1           0    0\n",
      "TypeScript   1    2   0     1           1     1       1     0           5    1\n",
      "---\n",
      "              precision    recall  f1-score   support\n",
      "\n",
      "           C       1.00      0.50      0.67         2\n",
      "         C++       1.00      0.60      0.75         5\n",
      "          Go       1.00      1.00      1.00         3\n",
      "        Java       1.00      0.83      0.91         6\n",
      "  JavaScript       0.93      0.96      0.95        27\n",
      "        None       1.00      0.89      0.94         9\n",
      "      Python       1.00      0.91      0.95        11\n",
      "        Rust       1.00      0.50      0.67         2\n",
      "  TypeScript       0.38      1.00      0.56         5\n",
      "         Vue       0.00      0.00      0.00         2\n",
      "\n",
      "    accuracy                           0.86        72\n",
      "   macro avg       0.83      0.72      0.74        72\n",
      "weighted avg       0.90      0.86      0.86        72\n",
      "\n"
     ]
    },
    {
     "name": "stderr",
     "output_type": "stream",
     "text": [
      "/usr/local/anaconda3/lib/python3.7/site-packages/sklearn/metrics/classification.py:1437: UndefinedMetricWarning: Precision and F-score are ill-defined and being set to 0.0 in labels with no predicted samples.\n",
      "  'precision', 'predicted', average, warn_for)\n"
     ]
    }
   ],
   "source": [
    "model.score_your_model(train.actual, train.predictions)"
   ]
  },
  {
   "cell_type": "code",
   "execution_count": 12,
   "metadata": {},
   "outputs": [],
   "source": [
    "test_predictons = model.run_the_tree_model(X_test, test.actual, 6)\n",
    "test['predictions'] = test_predictons"
   ]
  },
  {
   "cell_type": "code",
   "execution_count": 13,
   "metadata": {},
   "outputs": [
    {
     "name": "stdout",
     "output_type": "stream",
     "text": [
      "Accuracy: 94.44%\n",
      "---\n",
      "Confusion Matrix\n",
      "actual       C++  Go  Java  JavaScript  None  Python  TypeScript\n",
      "predictions                                                     \n",
      "C++            1   0     0           0     0       0           0\n",
      "Go             0   1     0           0     0       0           0\n",
      "Java           0   0     2           0     0       0           0\n",
      "JavaScript     0   0     0           7     0       0           1\n",
      "None           0   0     0           0     3       0           0\n",
      "Python         0   0     0           0     0       3           0\n",
      "---\n",
      "              precision    recall  f1-score   support\n",
      "\n",
      "         C++       1.00      1.00      1.00         1\n",
      "          Go       1.00      1.00      1.00         1\n",
      "        Java       1.00      1.00      1.00         2\n",
      "  JavaScript       0.88      1.00      0.93         7\n",
      "        None       1.00      1.00      1.00         3\n",
      "      Python       1.00      1.00      1.00         3\n",
      "  TypeScript       0.00      0.00      0.00         1\n",
      "\n",
      "    accuracy                           0.94        18\n",
      "   macro avg       0.84      0.86      0.85        18\n",
      "weighted avg       0.90      0.94      0.92        18\n",
      "\n"
     ]
    },
    {
     "name": "stderr",
     "output_type": "stream",
     "text": [
      "/usr/local/anaconda3/lib/python3.7/site-packages/sklearn/metrics/classification.py:1437: UndefinedMetricWarning: Precision and F-score are ill-defined and being set to 0.0 in labels with no predicted samples.\n",
      "  'precision', 'predicted', average, warn_for)\n"
     ]
    }
   ],
   "source": [
    "model.score_your_model(test.actual, test.predictions)"
   ]
  },
  {
   "cell_type": "code",
   "execution_count": 16,
   "metadata": {},
   "outputs": [],
   "source": [
    "df2 = acquire.get_corpus()\n",
    "\n",
    "df2['clean-lem-no_stop'] = df2.readme.apply(prepare.basic_clean).apply(prepare.remove_stopwords).apply(prepare.lemmatize)\n",
    "\n",
    "df2 = prepare.cut_singles(df2)"
   ]
  },
  {
   "cell_type": "code",
   "execution_count": 18,
   "metadata": {},
   "outputs": [
    {
     "data": {
      "text/html": [
       "<div>\n",
       "<style scoped>\n",
       "    .dataframe tbody tr th:only-of-type {\n",
       "        vertical-align: middle;\n",
       "    }\n",
       "\n",
       "    .dataframe tbody tr th {\n",
       "        vertical-align: top;\n",
       "    }\n",
       "\n",
       "    .dataframe thead th {\n",
       "        text-align: right;\n",
       "    }\n",
       "</style>\n",
       "<table border=\"1\" class=\"dataframe\">\n",
       "  <thead>\n",
       "    <tr style=\"text-align: right;\">\n",
       "      <th></th>\n",
       "      <th>language</th>\n",
       "      <th>readme</th>\n",
       "      <th>repo</th>\n",
       "      <th>clean-lem-no_stop</th>\n",
       "    </tr>\n",
       "  </thead>\n",
       "  <tbody>\n",
       "    <tr>\n",
       "      <th>0</th>\n",
       "      <td>JavaScript</td>\n",
       "      <td>\\n\\n\\n\\n\\n\\nfreeCodeCamp.org's open-source cod...</td>\n",
       "      <td>freeCodeCamp/freeCodeCamp</td>\n",
       "      <td>freecodecamporg's opensource codebase curricul...</td>\n",
       "    </tr>\n",
       "    <tr>\n",
       "      <th>1</th>\n",
       "      <td>Rust</td>\n",
       "      <td>\\n996.ICU\\nPlease note that there exists NO ot...</td>\n",
       "      <td>996icu/996.ICU</td>\n",
       "      <td>996icu please note exists official account app...</td>\n",
       "    </tr>\n",
       "    <tr>\n",
       "      <th>2</th>\n",
       "      <td>JavaScript</td>\n",
       "      <td>\\n\\n\\n\\n\\n\\n\\n\\n\\n\\n\\n\\nSupporting Vue.js\\nVue...</td>\n",
       "      <td>vuejs/vue</td>\n",
       "      <td>supporting vuejs vuejs mitlicensed open source...</td>\n",
       "    </tr>\n",
       "    <tr>\n",
       "      <th>3</th>\n",
       "      <td>JavaScript</td>\n",
       "      <td>\\nReact ·    \\nReact is a JavaScript library f...</td>\n",
       "      <td>facebook/react</td>\n",
       "      <td>react react javascript library building user i...</td>\n",
       "    </tr>\n",
       "    <tr>\n",
       "      <th>4</th>\n",
       "      <td>C++</td>\n",
       "      <td>\\n\\n\\n\\n\\n\\n\\nDocumentation\\n\\n\\n\\n\\n\\n\\n\\n\\nT...</td>\n",
       "      <td>tensorflow/tensorflow</td>\n",
       "      <td>documentation tensorflow endtoend open source ...</td>\n",
       "    </tr>\n",
       "  </tbody>\n",
       "</table>\n",
       "</div>"
      ],
      "text/plain": [
       "     language                                             readme  \\\n",
       "0  JavaScript  \\n\\n\\n\\n\\n\\nfreeCodeCamp.org's open-source cod...   \n",
       "1        Rust  \\n996.ICU\\nPlease note that there exists NO ot...   \n",
       "2  JavaScript  \\n\\n\\n\\n\\n\\n\\n\\n\\n\\n\\n\\nSupporting Vue.js\\nVue...   \n",
       "3  JavaScript  \\nReact ·    \\nReact is a JavaScript library f...   \n",
       "4         C++  \\n\\n\\n\\n\\n\\n\\nDocumentation\\n\\n\\n\\n\\n\\n\\n\\n\\nT...   \n",
       "\n",
       "                        repo  \\\n",
       "0  freeCodeCamp/freeCodeCamp   \n",
       "1             996icu/996.ICU   \n",
       "2                  vuejs/vue   \n",
       "3             facebook/react   \n",
       "4      tensorflow/tensorflow   \n",
       "\n",
       "                                   clean-lem-no_stop  \n",
       "0  freecodecamporg's opensource codebase curricul...  \n",
       "1  996icu please note exists official account app...  \n",
       "2  supporting vuejs vuejs mitlicensed open source...  \n",
       "3  react react javascript library building user i...  \n",
       "4  documentation tensorflow endtoend open source ...  "
      ]
     },
     "execution_count": 18,
     "metadata": {},
     "output_type": "execute_result"
    }
   ],
   "source": [
    "df2.head()"
   ]
  },
  {
   "cell_type": "code",
   "execution_count": 21,
   "metadata": {},
   "outputs": [],
   "source": [
    "X_train, X_test, train, test = model.make_model_components(df2['clean-lem-no_stop'], df2.language)"
   ]
  },
  {
   "cell_type": "code",
   "execution_count": 23,
   "metadata": {},
   "outputs": [],
   "source": [
    "predictons2 = model.run_the_tree_model(X_train, train.actual, 6)"
   ]
  },
  {
   "cell_type": "code",
   "execution_count": 24,
   "metadata": {},
   "outputs": [],
   "source": [
    "train['predictions'] = predictons2"
   ]
  },
  {
   "cell_type": "code",
   "execution_count": 25,
   "metadata": {},
   "outputs": [
    {
     "name": "stdout",
     "output_type": "stream",
     "text": [
      "Accuracy: 83.33%\n",
      "---\n",
      "Confusion Matrix\n",
      "actual       C  C++  Go  Java  JavaScript  None  Python  Rust  TypeScript  Vue\n",
      "predictions                                                                   \n",
      "C            2    2   2     1           2     1       1     1           0    2\n",
      "C++          0    3   0     0           0     0       0     0           0    0\n",
      "Go           0    0   1     0           0     0       0     0           0    0\n",
      "Java         0    0   0     5           0     0       0     0           0    0\n",
      "JavaScript   0    0   0     0          25     0       0     0           0    0\n",
      "None         0    0   0     0           0     8       0     0           0    0\n",
      "Python       0    0   0     0           0     0      10     0           0    0\n",
      "Rust         0    0   0     0           0     0       0     1           0    0\n",
      "TypeScript   0    0   0     0           0     0       0     0           5    0\n",
      "---\n",
      "              precision    recall  f1-score   support\n",
      "\n",
      "           C       0.14      1.00      0.25         2\n",
      "         C++       1.00      0.60      0.75         5\n",
      "          Go       1.00      0.33      0.50         3\n",
      "        Java       1.00      0.83      0.91         6\n",
      "  JavaScript       1.00      0.93      0.96        27\n",
      "        None       1.00      0.89      0.94         9\n",
      "      Python       1.00      0.91      0.95        11\n",
      "        Rust       1.00      0.50      0.67         2\n",
      "  TypeScript       1.00      1.00      1.00         5\n",
      "         Vue       0.00      0.00      0.00         2\n",
      "\n",
      "    accuracy                           0.83        72\n",
      "   macro avg       0.81      0.70      0.69        72\n",
      "weighted avg       0.95      0.83      0.87        72\n",
      "\n"
     ]
    },
    {
     "name": "stderr",
     "output_type": "stream",
     "text": [
      "/usr/local/anaconda3/lib/python3.7/site-packages/sklearn/metrics/classification.py:1437: UndefinedMetricWarning: Precision and F-score are ill-defined and being set to 0.0 in labels with no predicted samples.\n",
      "  'precision', 'predicted', average, warn_for)\n"
     ]
    }
   ],
   "source": [
    "model.score_your_model(train.actual, train.predictions)"
   ]
  },
  {
   "cell_type": "code",
   "execution_count": 26,
   "metadata": {},
   "outputs": [],
   "source": [
    "test_predictons2 = model.run_the_tree_model(X_test, test.actual, 6)\n",
    "test['predictions'] = test_predictons2"
   ]
  },
  {
   "cell_type": "code",
   "execution_count": 27,
   "metadata": {},
   "outputs": [
    {
     "name": "stdout",
     "output_type": "stream",
     "text": [
      "Accuracy: 100.00%\n",
      "---\n",
      "Confusion Matrix\n",
      "actual       C++  Go  Java  JavaScript  None  Python  TypeScript\n",
      "predictions                                                     \n",
      "C++            1   0     0           0     0       0           0\n",
      "Go             0   1     0           0     0       0           0\n",
      "Java           0   0     2           0     0       0           0\n",
      "JavaScript     0   0     0           7     0       0           0\n",
      "None           0   0     0           0     3       0           0\n",
      "Python         0   0     0           0     0       3           0\n",
      "TypeScript     0   0     0           0     0       0           1\n",
      "---\n",
      "              precision    recall  f1-score   support\n",
      "\n",
      "         C++       1.00      1.00      1.00         1\n",
      "          Go       1.00      1.00      1.00         1\n",
      "        Java       1.00      1.00      1.00         2\n",
      "  JavaScript       1.00      1.00      1.00         7\n",
      "        None       1.00      1.00      1.00         3\n",
      "      Python       1.00      1.00      1.00         3\n",
      "  TypeScript       1.00      1.00      1.00         1\n",
      "\n",
      "    accuracy                           1.00        18\n",
      "   macro avg       1.00      1.00      1.00        18\n",
      "weighted avg       1.00      1.00      1.00        18\n",
      "\n"
     ]
    }
   ],
   "source": [
    "model.score_your_model(test.actual, test.predictions)"
   ]
  },
  {
   "cell_type": "code",
   "execution_count": null,
   "metadata": {},
   "outputs": [],
   "source": []
  }
 ],
 "metadata": {
  "kernelspec": {
   "display_name": "Python 3",
   "language": "python",
   "name": "python3"
  },
  "language_info": {
   "codemirror_mode": {
    "name": "ipython",
    "version": 3
   },
   "file_extension": ".py",
   "mimetype": "text/x-python",
   "name": "python",
   "nbconvert_exporter": "python",
   "pygments_lexer": "ipython3",
   "version": "3.7.3"
  }
 },
 "nbformat": 4,
 "nbformat_minor": 2
}
