{
 "cells": [
  {
   "cell_type": "code",
   "execution_count": 1,
   "metadata": {},
   "outputs": [],
   "source": [
    "import acquire, prepare, model"
   ]
  },
  {
   "cell_type": "code",
   "execution_count": 14,
   "metadata": {},
   "outputs": [],
   "source": [
    "from sklearn.tree import DecisionTreeClassifier\n",
    "from sklearn.feature_extraction.text import TfidfVectorizer"
   ]
  },
  {
   "cell_type": "code",
   "execution_count": 10,
   "metadata": {},
   "outputs": [],
   "source": [
    "import pandas as pd"
   ]
  },
  {
   "cell_type": "code",
   "execution_count": 2,
   "metadata": {},
   "outputs": [],
   "source": [
    "df = acquire.get_corpus()\n",
    "\n",
    "df['clean_and_lem'] = df.readme.apply(prepare.basic_clean).apply(prepare.lemmatize)\n",
    "\n",
    "df = prepare.cut_singles(df)"
   ]
  },
  {
   "cell_type": "code",
   "execution_count": null,
   "metadata": {},
   "outputs": [],
   "source": [
    "#HOLD until we try it without it\n",
    "##\n",
    "#df['encoded_language'] = model.encode_categories(df.language)"
   ]
  },
  {
   "cell_type": "code",
   "execution_count": 5,
   "metadata": {},
   "outputs": [],
   "source": [
    "X_train, X_test, train, test = model.make_model_components(df.clean_and_lem, df.language, .15)"
   ]
  },
  {
   "cell_type": "code",
   "execution_count": 9,
   "metadata": {},
   "outputs": [],
   "source": [
    "#####THE CLASSIFIER!\n",
    "tree = DecisionTreeClassifier(max_depth=6).fit(X_train, train.actual)"
   ]
  },
  {
   "cell_type": "code",
   "execution_count": 4,
   "metadata": {},
   "outputs": [],
   "source": [
    "predictons = model.run_the_tree_model(X_train, train.actual, 6)"
   ]
  },
  {
   "cell_type": "code",
   "execution_count": null,
   "metadata": {},
   "outputs": [],
   "source": [
    "train['predictions'] = predictons"
   ]
  },
  {
   "cell_type": "code",
   "execution_count": null,
   "metadata": {},
   "outputs": [],
   "source": [
    "model.score_your_model(train.actual, train.predictions)"
   ]
  },
  {
   "cell_type": "code",
   "execution_count": null,
   "metadata": {},
   "outputs": [],
   "source": [
    "test_predictons = model.run_the_tree_model(X_test, test.actual, 6)\n",
    "test['predictions'] = test_predictons"
   ]
  },
  {
   "cell_type": "code",
   "execution_count": null,
   "metadata": {},
   "outputs": [],
   "source": [
    "model.score_your_model(test.actual, test.predictions)"
   ]
  },
  {
   "cell_type": "code",
   "execution_count": null,
   "metadata": {},
   "outputs": [],
   "source": [
    "df2 = acquire.get_corpus()\n",
    "\n",
    "df2['clean-lem-no_stop'] = df2.readme.apply(prepare.basic_clean).apply(prepare.remove_stopwords).apply(prepare.lemmatize)\n",
    "\n",
    "df2 = prepare.cut_singles(df2)"
   ]
  },
  {
   "cell_type": "code",
   "execution_count": null,
   "metadata": {},
   "outputs": [],
   "source": [
    "df2.head()"
   ]
  },
  {
   "cell_type": "code",
   "execution_count": null,
   "metadata": {},
   "outputs": [],
   "source": [
    "X_train, X_test, train, test = model.make_model_components(df2['clean-lem-no_stop'], df2.language)"
   ]
  },
  {
   "cell_type": "code",
   "execution_count": null,
   "metadata": {},
   "outputs": [],
   "source": [
    "predictons2 = model.run_the_tree_model(X_train, train.actual, 6)"
   ]
  },
  {
   "cell_type": "code",
   "execution_count": null,
   "metadata": {},
   "outputs": [],
   "source": [
    "train['predictions'] = predictons2"
   ]
  },
  {
   "cell_type": "code",
   "execution_count": null,
   "metadata": {},
   "outputs": [],
   "source": [
    "model.score_your_model(train.actual, train.predictions)"
   ]
  },
  {
   "cell_type": "code",
   "execution_count": null,
   "metadata": {},
   "outputs": [],
   "source": [
    "test_predictons2 = model.run_the_tree_model(X_test, test.actual, 6)\n",
    "test['predictions'] = test_predictons2"
   ]
  },
  {
   "cell_type": "code",
   "execution_count": null,
   "metadata": {},
   "outputs": [],
   "source": [
    "model.score_your_model(test.actual, test.predictions)"
   ]
  },
  {
   "cell_type": "markdown",
   "metadata": {},
   "source": [
    "# MAKING 2nd Corpus"
   ]
  },
  {
   "cell_type": "code",
   "execution_count": null,
   "metadata": {},
   "outputs": [],
   "source": [
    "from requests import get\n",
    "from bs4 import BeautifulSoup\n",
    "\n",
    "import pandas as pd\n",
    "\n",
    "import json\n",
    "import os"
   ]
  },
  {
   "cell_type": "code",
   "execution_count": null,
   "metadata": {},
   "outputs": [],
   "source": [
    "def scrape_links_one_page(url):\n",
    "    headers = {'User-Agent': 'Codeup Data Science'} \n",
    "    response = get(url, headers=headers)\n",
    "    soup = BeautifulSoup(response.text, 'html.parser')\n",
    "    extension = soup.find_all(\"a\", {\"class\":\"v-align-middle\"}, {\"data-hydro-click\":\"url\"})\n",
    "    extensions = []\n",
    "    for count in range(len(extension)):\n",
    "        extensions.append(\"http://github.com/\" + extension[count].get_text())\n",
    "    return extensions\n",
    "\n",
    "def make_url_list():\n",
    "    \"\"\"\n",
    "    Creates a 10 page list. Each page needs the links to repositories scapes.\n",
    "    \"\"\"\n",
    "    urls = []\n",
    "    for count in range(11,21):\n",
    "        urls.append(\"https://github.com/search?p={}&q=stars%3A%3E100&type=Repositories\".format(count))\n",
    "    return urls\n",
    "\n",
    "\n",
    "def loop_through_urls(url_list):\n",
    "    \"\"\"\n",
    "    Creates a 100 page list. Each element is a link to be scraped of their README.\n",
    "    \"\"\"\n",
    "    big_list = []\n",
    "    for url in url_list:\n",
    "        big_list.extend(scrape_links_one_page(url))\n",
    "    return big_list\n",
    "\n",
    "def get_readme_text(url):\n",
    "    response = get(url)\n",
    "    soup = BeautifulSoup(response.content, 'html.parser')\n",
    "    textboxes = soup.findAll(\"div\", {\"class\": \"Box-body\"})\n",
    "    readme_text = textboxes[0].text\n",
    "\n",
    "    language = soup.find(\"span\", {\"class\": \"lang\"})\n",
    "    if language == None:\n",
    "        language = \"None\"\n",
    "    else:\n",
    "        language = soup.find(\"span\", {\"class\": \"lang\"}).get_text()\n",
    "\n",
    "    return {\n",
    "        \"repo\" : url[18:],\n",
    "        \"language\" : language,\n",
    "        \"readme\" : readme_text\n",
    "    }\n"
   ]
  },
  {
   "cell_type": "code",
   "execution_count": null,
   "metadata": {},
   "outputs": [],
   "source": [
    "url_list = make_url_list()"
   ]
  },
  {
   "cell_type": "code",
   "execution_count": null,
   "metadata": {},
   "outputs": [],
   "source": [
    "url_list"
   ]
  },
  {
   "cell_type": "code",
   "execution_count": null,
   "metadata": {},
   "outputs": [],
   "source": [
    "big_list = loop_through_urls(url_list)"
   ]
  },
  {
   "cell_type": "code",
   "execution_count": null,
   "metadata": {},
   "outputs": [],
   "source": [
    "pages10_20 = pd.Series(big_list)"
   ]
  },
  {
   "cell_type": "code",
   "execution_count": null,
   "metadata": {},
   "outputs": [],
   "source": [
    "pages10_20"
   ]
  },
  {
   "cell_type": "code",
   "execution_count": null,
   "metadata": {},
   "outputs": [],
   "source": [
    "def make_corpus(big_list):\n",
    "    corpus = [get_readme_text(url) for url in big_list]\n",
    "    return corpus"
   ]
  },
  {
   "cell_type": "code",
   "execution_count": null,
   "metadata": {},
   "outputs": [],
   "source": [
    "corpus2 = make_corpus(big_list)"
   ]
  },
  {
   "cell_type": "code",
   "execution_count": null,
   "metadata": {},
   "outputs": [],
   "source": [
    "df_corpus2 = pd.DataFrame(corpus2)"
   ]
  },
  {
   "cell_type": "code",
   "execution_count": null,
   "metadata": {},
   "outputs": [],
   "source": [
    "df_corpus2"
   ]
  },
  {
   "cell_type": "code",
   "execution_count": null,
   "metadata": {},
   "outputs": [],
   "source": [
    "def get_corpus():\n",
    "    filename = 'data_second.json'\n",
    "\n",
    "    # check for presence of the file or make a new request\n",
    "    if os.path.exists(filename):\n",
    "        with open(filename) as json_file:\n",
    "            reads = json.load(json_file)\n",
    "        return pd.DataFrame(reads)\n",
    "    else:\n",
    "        data = make_corpus()\n",
    "        with open(filename, 'w') as json_file:\n",
    "            json.dump(data, json_file)\n",
    "        return pd.DataFrame(data)"
   ]
  },
  {
   "cell_type": "code",
   "execution_count": null,
   "metadata": {},
   "outputs": [],
   "source": [
    "filename = 'data_second.json'"
   ]
  },
  {
   "cell_type": "code",
   "execution_count": null,
   "metadata": {},
   "outputs": [],
   "source": [
    "with open(filename, 'w') as json_file:\n",
    "    json.dump(corpus2, json_file)"
   ]
  },
  {
   "cell_type": "code",
   "execution_count": 11,
   "metadata": {},
   "outputs": [],
   "source": [
    "df_second = pd.read_json('data_second.json')"
   ]
  },
  {
   "cell_type": "code",
   "execution_count": 13,
   "metadata": {},
   "outputs": [],
   "source": [
    "df_second['clean_and_lem'] = df_second.readme.apply(prepare.basic_clean).apply(prepare.lemmatize)\n",
    "\n",
    "df_second = prepare.cut_singles(df_second)"
   ]
  },
  {
   "cell_type": "code",
   "execution_count": 15,
   "metadata": {},
   "outputs": [],
   "source": [
    "tfidf = TfidfVectorizer()\n",
    "tfidfs = tfidf.fit_transform(df_second.clean_and_lem.values)\n",
    "X = pd.DataFrame(tfidfs.todense(), columns=tfidf.get_feature_names())"
   ]
  },
  {
   "cell_type": "code",
   "execution_count": 16,
   "metadata": {},
   "outputs": [
    {
     "ename": "ValueError",
     "evalue": "Number of features of the model must match the input. Model n_features is 22189 and input n_features is 22722 ",
     "output_type": "error",
     "traceback": [
      "\u001b[0;31m---------------------------------------------------------------------------\u001b[0m",
      "\u001b[0;31mValueError\u001b[0m                                Traceback (most recent call last)",
      "\u001b[0;32m<ipython-input-16-ba5196942be5>\u001b[0m in \u001b[0;36m<module>\u001b[0;34m\u001b[0m\n\u001b[0;32m----> 1\u001b[0;31m \u001b[0mpredictons_second\u001b[0m \u001b[0;34m=\u001b[0m \u001b[0mtree\u001b[0m\u001b[0;34m.\u001b[0m\u001b[0mpredict\u001b[0m\u001b[0;34m(\u001b[0m\u001b[0mX\u001b[0m\u001b[0;34m)\u001b[0m\u001b[0;34m\u001b[0m\u001b[0;34m\u001b[0m\u001b[0m\n\u001b[0m",
      "\u001b[0;32m/usr/local/anaconda3/lib/python3.7/site-packages/sklearn/tree/tree.py\u001b[0m in \u001b[0;36mpredict\u001b[0;34m(self, X, check_input)\u001b[0m\n\u001b[1;32m    428\u001b[0m         \"\"\"\n\u001b[1;32m    429\u001b[0m         \u001b[0mcheck_is_fitted\u001b[0m\u001b[0;34m(\u001b[0m\u001b[0mself\u001b[0m\u001b[0;34m,\u001b[0m \u001b[0;34m'tree_'\u001b[0m\u001b[0;34m)\u001b[0m\u001b[0;34m\u001b[0m\u001b[0;34m\u001b[0m\u001b[0m\n\u001b[0;32m--> 430\u001b[0;31m         \u001b[0mX\u001b[0m \u001b[0;34m=\u001b[0m \u001b[0mself\u001b[0m\u001b[0;34m.\u001b[0m\u001b[0m_validate_X_predict\u001b[0m\u001b[0;34m(\u001b[0m\u001b[0mX\u001b[0m\u001b[0;34m,\u001b[0m \u001b[0mcheck_input\u001b[0m\u001b[0;34m)\u001b[0m\u001b[0;34m\u001b[0m\u001b[0;34m\u001b[0m\u001b[0m\n\u001b[0m\u001b[1;32m    431\u001b[0m         \u001b[0mproba\u001b[0m \u001b[0;34m=\u001b[0m \u001b[0mself\u001b[0m\u001b[0;34m.\u001b[0m\u001b[0mtree_\u001b[0m\u001b[0;34m.\u001b[0m\u001b[0mpredict\u001b[0m\u001b[0;34m(\u001b[0m\u001b[0mX\u001b[0m\u001b[0;34m)\u001b[0m\u001b[0;34m\u001b[0m\u001b[0;34m\u001b[0m\u001b[0m\n\u001b[1;32m    432\u001b[0m         \u001b[0mn_samples\u001b[0m \u001b[0;34m=\u001b[0m \u001b[0mX\u001b[0m\u001b[0;34m.\u001b[0m\u001b[0mshape\u001b[0m\u001b[0;34m[\u001b[0m\u001b[0;36m0\u001b[0m\u001b[0;34m]\u001b[0m\u001b[0;34m\u001b[0m\u001b[0;34m\u001b[0m\u001b[0m\n",
      "\u001b[0;32m/usr/local/anaconda3/lib/python3.7/site-packages/sklearn/tree/tree.py\u001b[0m in \u001b[0;36m_validate_X_predict\u001b[0;34m(self, X, check_input)\u001b[0m\n\u001b[1;32m    400\u001b[0m                              \u001b[0;34m\"match the input. Model n_features is %s and \"\u001b[0m\u001b[0;34m\u001b[0m\u001b[0;34m\u001b[0m\u001b[0m\n\u001b[1;32m    401\u001b[0m                              \u001b[0;34m\"input n_features is %s \"\u001b[0m\u001b[0;34m\u001b[0m\u001b[0;34m\u001b[0m\u001b[0m\n\u001b[0;32m--> 402\u001b[0;31m                              % (self.n_features_, n_features))\n\u001b[0m\u001b[1;32m    403\u001b[0m \u001b[0;34m\u001b[0m\u001b[0m\n\u001b[1;32m    404\u001b[0m         \u001b[0;32mreturn\u001b[0m \u001b[0mX\u001b[0m\u001b[0;34m\u001b[0m\u001b[0;34m\u001b[0m\u001b[0m\n",
      "\u001b[0;31mValueError\u001b[0m: Number of features of the model must match the input. Model n_features is 22189 and input n_features is 22722 "
     ]
    }
   ],
   "source": [
    "predictons_second = tree.predict(X)"
   ]
  },
  {
   "cell_type": "code",
   "execution_count": null,
   "metadata": {},
   "outputs": [],
   "source": [
    "train['predictions'] = predictons_second"
   ]
  },
  {
   "cell_type": "code",
   "execution_count": null,
   "metadata": {},
   "outputs": [],
   "source": [
    "model.score_your_model(train.actual, train.predictions)"
   ]
  },
  {
   "cell_type": "code",
   "execution_count": null,
   "metadata": {},
   "outputs": [],
   "source": [
    "df_corpus2.language.value_counts()"
   ]
  },
  {
   "cell_type": "code",
   "execution_count": 18,
   "metadata": {},
   "outputs": [
    {
     "data": {
      "text/html": [
       "<div>\n",
       "<style scoped>\n",
       "    .dataframe tbody tr th:only-of-type {\n",
       "        vertical-align: middle;\n",
       "    }\n",
       "\n",
       "    .dataframe tbody tr th {\n",
       "        vertical-align: top;\n",
       "    }\n",
       "\n",
       "    .dataframe thead th {\n",
       "        text-align: right;\n",
       "    }\n",
       "</style>\n",
       "<table border=\"1\" class=\"dataframe\">\n",
       "  <thead>\n",
       "    <tr style=\"text-align: right;\">\n",
       "      <th></th>\n",
       "      <th>repo</th>\n",
       "      <th>language</th>\n",
       "      <th>readme</th>\n",
       "      <th>clean_and_lem</th>\n",
       "    </tr>\n",
       "  </thead>\n",
       "  <tbody>\n",
       "    <tr>\n",
       "      <th>0</th>\n",
       "      <td>freeCodeCamp/freeCodeCamp</td>\n",
       "      <td>JavaScript</td>\n",
       "      <td>\\n\\n\\n\\n\\n\\nfreeCodeCamp.org's open-source cod...</td>\n",
       "      <td>freecodecamporg's opensource codebase and curr...</td>\n",
       "    </tr>\n",
       "    <tr>\n",
       "      <th>1</th>\n",
       "      <td>996icu/996.ICU</td>\n",
       "      <td>Rust</td>\n",
       "      <td>\\n996.ICU\\nPlease note that there exists NO ot...</td>\n",
       "      <td>996icu please note that there exists no other ...</td>\n",
       "    </tr>\n",
       "    <tr>\n",
       "      <th>2</th>\n",
       "      <td>vuejs/vue</td>\n",
       "      <td>JavaScript</td>\n",
       "      <td>\\n\\n\\n\\n\\n\\n\\n\\n\\n\\n\\n\\nSupporting Vue.js\\nVue...</td>\n",
       "      <td>supporting vuejs vuejs is an mitlicensed open ...</td>\n",
       "    </tr>\n",
       "    <tr>\n",
       "      <th>3</th>\n",
       "      <td>facebook/react</td>\n",
       "      <td>JavaScript</td>\n",
       "      <td>\\nReact ·    \\nReact is a JavaScript library f...</td>\n",
       "      <td>react react is a javascript library for buildi...</td>\n",
       "    </tr>\n",
       "    <tr>\n",
       "      <th>4</th>\n",
       "      <td>tensorflow/tensorflow</td>\n",
       "      <td>C++</td>\n",
       "      <td>\\n\\n\\n\\n\\n\\n\\nDocumentation\\n\\n\\n\\n\\n\\n\\n\\n\\nT...</td>\n",
       "      <td>documentation tensorflow is an endtoend open s...</td>\n",
       "    </tr>\n",
       "    <tr>\n",
       "      <th>...</th>\n",
       "      <td>...</td>\n",
       "      <td>...</td>\n",
       "      <td>...</td>\n",
       "      <td>...</td>\n",
       "    </tr>\n",
       "    <tr>\n",
       "      <th>95</th>\n",
       "      <td>ansible/ansible</td>\n",
       "      <td>Python</td>\n",
       "      <td>\\n\\n \\n \\n  \\n \\n \\n\\n\\nAnsible\\nAnsible is a ...</td>\n",
       "      <td>ansible ansible is a radically simple it autom...</td>\n",
       "    </tr>\n",
       "    <tr>\n",
       "      <th>96</th>\n",
       "      <td>kdn251/interviews</td>\n",
       "      <td>Java</td>\n",
       "      <td>\\nInterviews\\n\\nYour personal guide to Softwar...</td>\n",
       "      <td>interview your personal guide to software engi...</td>\n",
       "    </tr>\n",
       "    <tr>\n",
       "      <th>97</th>\n",
       "      <td>gatsbyjs/gatsby</td>\n",
       "      <td>JavaScript</td>\n",
       "      <td>\\n\\n\\n\\n\\n\\n\\n  Gatsby v2\\n\\n\\n⚛️ 📄 🚀\\n\\n\\n  F...</td>\n",
       "      <td>gatsby v2 fast in every way that matter gatsby...</td>\n",
       "    </tr>\n",
       "    <tr>\n",
       "      <th>98</th>\n",
       "      <td>opencv/opencv</td>\n",
       "      <td>C++</td>\n",
       "      <td>\\nOpenCV: Open Source Computer Vision Library\\...</td>\n",
       "      <td>opencv open source computer vision library res...</td>\n",
       "    </tr>\n",
       "    <tr>\n",
       "      <th>99</th>\n",
       "      <td>mtdvio/every-programmer-should-know</td>\n",
       "      <td>None</td>\n",
       "      <td>\\n\\nJoin our community for professional Softwa...</td>\n",
       "      <td>join our community for professional software d...</td>\n",
       "    </tr>\n",
       "  </tbody>\n",
       "</table>\n",
       "<p>90 rows × 4 columns</p>\n",
       "</div>"
      ],
      "text/plain": [
       "                                   repo    language  \\\n",
       "0             freeCodeCamp/freeCodeCamp  JavaScript   \n",
       "1                        996icu/996.ICU        Rust   \n",
       "2                             vuejs/vue  JavaScript   \n",
       "3                        facebook/react  JavaScript   \n",
       "4                 tensorflow/tensorflow         C++   \n",
       "..                                  ...         ...   \n",
       "95                      ansible/ansible      Python   \n",
       "96                    kdn251/interviews        Java   \n",
       "97                      gatsbyjs/gatsby  JavaScript   \n",
       "98                        opencv/opencv         C++   \n",
       "99  mtdvio/every-programmer-should-know        None   \n",
       "\n",
       "                                               readme  \\\n",
       "0   \\n\\n\\n\\n\\n\\nfreeCodeCamp.org's open-source cod...   \n",
       "1   \\n996.ICU\\nPlease note that there exists NO ot...   \n",
       "2   \\n\\n\\n\\n\\n\\n\\n\\n\\n\\n\\n\\nSupporting Vue.js\\nVue...   \n",
       "3   \\nReact ·    \\nReact is a JavaScript library f...   \n",
       "4   \\n\\n\\n\\n\\n\\n\\nDocumentation\\n\\n\\n\\n\\n\\n\\n\\n\\nT...   \n",
       "..                                                ...   \n",
       "95  \\n\\n \\n \\n  \\n \\n \\n\\n\\nAnsible\\nAnsible is a ...   \n",
       "96  \\nInterviews\\n\\nYour personal guide to Softwar...   \n",
       "97  \\n\\n\\n\\n\\n\\n\\n  Gatsby v2\\n\\n\\n⚛️ 📄 🚀\\n\\n\\n  F...   \n",
       "98  \\nOpenCV: Open Source Computer Vision Library\\...   \n",
       "99  \\n\\nJoin our community for professional Softwa...   \n",
       "\n",
       "                                        clean_and_lem  \n",
       "0   freecodecamporg's opensource codebase and curr...  \n",
       "1   996icu please note that there exists no other ...  \n",
       "2   supporting vuejs vuejs is an mitlicensed open ...  \n",
       "3   react react is a javascript library for buildi...  \n",
       "4   documentation tensorflow is an endtoend open s...  \n",
       "..                                                ...  \n",
       "95  ansible ansible is a radically simple it autom...  \n",
       "96  interview your personal guide to software engi...  \n",
       "97  gatsby v2 fast in every way that matter gatsby...  \n",
       "98  opencv open source computer vision library res...  \n",
       "99  join our community for professional software d...  \n",
       "\n",
       "[90 rows x 4 columns]"
      ]
     },
     "execution_count": 18,
     "metadata": {},
     "output_type": "execute_result"
    }
   ],
   "source": [
    "df"
   ]
  },
  {
   "cell_type": "code",
   "execution_count": 19,
   "metadata": {},
   "outputs": [
    {
     "data": {
      "text/html": [
       "<div>\n",
       "<style scoped>\n",
       "    .dataframe tbody tr th:only-of-type {\n",
       "        vertical-align: middle;\n",
       "    }\n",
       "\n",
       "    .dataframe tbody tr th {\n",
       "        vertical-align: top;\n",
       "    }\n",
       "\n",
       "    .dataframe thead th {\n",
       "        text-align: right;\n",
       "    }\n",
       "</style>\n",
       "<table border=\"1\" class=\"dataframe\">\n",
       "  <thead>\n",
       "    <tr style=\"text-align: right;\">\n",
       "      <th></th>\n",
       "      <th>repo</th>\n",
       "      <th>language</th>\n",
       "      <th>readme</th>\n",
       "      <th>clean_and_lem</th>\n",
       "    </tr>\n",
       "  </thead>\n",
       "  <tbody>\n",
       "    <tr>\n",
       "      <th>0</th>\n",
       "      <td>antirez/redis</td>\n",
       "      <td>C</td>\n",
       "      <td>\\nThis README is just a fast quick start docum...</td>\n",
       "      <td>this readme is just a fast quick start documen...</td>\n",
       "    </tr>\n",
       "    <tr>\n",
       "      <th>1</th>\n",
       "      <td>denoland/deno</td>\n",
       "      <td>TypeScript</td>\n",
       "      <td>\\nDeno\\nA secure runtime for JavaScript and Ty...</td>\n",
       "      <td>deno a secure runtime for javascript and types...</td>\n",
       "    </tr>\n",
       "    <tr>\n",
       "      <th>2</th>\n",
       "      <td>gohugoio/hugo</td>\n",
       "      <td>Go</td>\n",
       "      <td>\\n\\nA Fast and Flexible Static Site Generator ...</td>\n",
       "      <td>a fast and flexible static site generator buil...</td>\n",
       "    </tr>\n",
       "    <tr>\n",
       "      <th>3</th>\n",
       "      <td>ionic-team/ionic</td>\n",
       "      <td>TypeScript</td>\n",
       "      <td>\\nIonic\\nIonic is the open-source mobile app d...</td>\n",
       "      <td>ionic ionic is the opensource mobile app devel...</td>\n",
       "    </tr>\n",
       "    <tr>\n",
       "      <th>4</th>\n",
       "      <td>google/material-design-icons</td>\n",
       "      <td>CSS</td>\n",
       "      <td>\\nMaterial design icons\\nMaterial design icons...</td>\n",
       "      <td>material design icon material design icon is t...</td>\n",
       "    </tr>\n",
       "    <tr>\n",
       "      <th>...</th>\n",
       "      <td>...</td>\n",
       "      <td>...</td>\n",
       "      <td>...</td>\n",
       "      <td>...</td>\n",
       "    </tr>\n",
       "    <tr>\n",
       "      <th>85</th>\n",
       "      <td>Trinea/android-open-project</td>\n",
       "      <td>None</td>\n",
       "      <td>\\nAndroid 开源项目分类汇总，更全更新可见 codekk.com\\nOther: E...</td>\n",
       "      <td>android codekkcom other english version websit...</td>\n",
       "    </tr>\n",
       "    <tr>\n",
       "      <th>86</th>\n",
       "      <td>PhilJay/MPAndroidChart</td>\n",
       "      <td>Java</td>\n",
       "      <td>\\n\\n\\n\\n\\n\\n\\n⚡️ A powerful &amp; easy to use char...</td>\n",
       "      <td>a powerful easy to use chart library for andro...</td>\n",
       "    </tr>\n",
       "    <tr>\n",
       "      <th>87</th>\n",
       "      <td>tiimgreen/github-cheat-sheet</td>\n",
       "      <td>None</td>\n",
       "      <td>\\nGitHub Cheat Sheet \\nA collection of cool hi...</td>\n",
       "      <td>github cheat sheet a collection of cool hidden...</td>\n",
       "    </tr>\n",
       "    <tr>\n",
       "      <th>88</th>\n",
       "      <td>XX-net/XX-Net</td>\n",
       "      <td>Python</td>\n",
       "      <td>\\nXX-Net\\n中文文档      English      فارسی صفحه اص...</td>\n",
       "      <td>xxnet english gaeproxyxtunnel gaeproxy xtunnel...</td>\n",
       "    </tr>\n",
       "    <tr>\n",
       "      <th>89</th>\n",
       "      <td>sahat/hackathon-starter</td>\n",
       "      <td>JavaScript</td>\n",
       "      <td>\\n\\nHackathon Starter\\n   \\nLive Demo: https:/...</td>\n",
       "      <td>hackathon starter live demo httpshackathonstar...</td>\n",
       "    </tr>\n",
       "  </tbody>\n",
       "</table>\n",
       "<p>78 rows × 4 columns</p>\n",
       "</div>"
      ],
      "text/plain": [
       "                            repo    language  \\\n",
       "0                  antirez/redis           C   \n",
       "1                  denoland/deno  TypeScript   \n",
       "2                  gohugoio/hugo          Go   \n",
       "3               ionic-team/ionic  TypeScript   \n",
       "4   google/material-design-icons         CSS   \n",
       "..                           ...         ...   \n",
       "85   Trinea/android-open-project        None   \n",
       "86        PhilJay/MPAndroidChart        Java   \n",
       "87  tiimgreen/github-cheat-sheet        None   \n",
       "88                 XX-net/XX-Net      Python   \n",
       "89       sahat/hackathon-starter  JavaScript   \n",
       "\n",
       "                                               readme  \\\n",
       "0   \\nThis README is just a fast quick start docum...   \n",
       "1   \\nDeno\\nA secure runtime for JavaScript and Ty...   \n",
       "2   \\n\\nA Fast and Flexible Static Site Generator ...   \n",
       "3   \\nIonic\\nIonic is the open-source mobile app d...   \n",
       "4   \\nMaterial design icons\\nMaterial design icons...   \n",
       "..                                                ...   \n",
       "85  \\nAndroid 开源项目分类汇总，更全更新可见 codekk.com\\nOther: E...   \n",
       "86  \\n\\n\\n\\n\\n\\n\\n⚡️ A powerful & easy to use char...   \n",
       "87  \\nGitHub Cheat Sheet \\nA collection of cool hi...   \n",
       "88  \\nXX-Net\\n中文文档      English      فارسی صفحه اص...   \n",
       "89  \\n\\nHackathon Starter\\n   \\nLive Demo: https:/...   \n",
       "\n",
       "                                        clean_and_lem  \n",
       "0   this readme is just a fast quick start documen...  \n",
       "1   deno a secure runtime for javascript and types...  \n",
       "2   a fast and flexible static site generator buil...  \n",
       "3   ionic ionic is the opensource mobile app devel...  \n",
       "4   material design icon material design icon is t...  \n",
       "..                                                ...  \n",
       "85  android codekkcom other english version websit...  \n",
       "86  a powerful easy to use chart library for andro...  \n",
       "87  github cheat sheet a collection of cool hidden...  \n",
       "88  xxnet english gaeproxyxtunnel gaeproxy xtunnel...  \n",
       "89  hackathon starter live demo httpshackathonstar...  \n",
       "\n",
       "[78 rows x 4 columns]"
      ]
     },
     "execution_count": 19,
     "metadata": {},
     "output_type": "execute_result"
    }
   ],
   "source": [
    "df_second"
   ]
  },
  {
   "cell_type": "code",
   "execution_count": 20,
   "metadata": {},
   "outputs": [],
   "source": [
    "frames = [df, df_second]\n",
    "\n",
    "df_merged = pd.concat(frames)"
   ]
  },
  {
   "cell_type": "code",
   "execution_count": 26,
   "metadata": {},
   "outputs": [
    {
     "data": {
      "text/html": [
       "<div>\n",
       "<style scoped>\n",
       "    .dataframe tbody tr th:only-of-type {\n",
       "        vertical-align: middle;\n",
       "    }\n",
       "\n",
       "    .dataframe tbody tr th {\n",
       "        vertical-align: top;\n",
       "    }\n",
       "\n",
       "    .dataframe thead th {\n",
       "        text-align: right;\n",
       "    }\n",
       "</style>\n",
       "<table border=\"1\" class=\"dataframe\">\n",
       "  <thead>\n",
       "    <tr style=\"text-align: right;\">\n",
       "      <th></th>\n",
       "      <th>repo</th>\n",
       "      <th>language</th>\n",
       "      <th>readme</th>\n",
       "      <th>clean_and_lem</th>\n",
       "    </tr>\n",
       "  </thead>\n",
       "  <tbody>\n",
       "    <tr>\n",
       "      <th>0</th>\n",
       "      <td>freeCodeCamp/freeCodeCamp</td>\n",
       "      <td>JavaScript</td>\n",
       "      <td>\\n\\n\\n\\n\\n\\nfreeCodeCamp.org's open-source cod...</td>\n",
       "      <td>freecodecamporg's opensource codebase and curr...</td>\n",
       "    </tr>\n",
       "    <tr>\n",
       "      <th>1</th>\n",
       "      <td>996icu/996.ICU</td>\n",
       "      <td>Rust</td>\n",
       "      <td>\\n996.ICU\\nPlease note that there exists NO ot...</td>\n",
       "      <td>996icu please note that there exists no other ...</td>\n",
       "    </tr>\n",
       "    <tr>\n",
       "      <th>2</th>\n",
       "      <td>vuejs/vue</td>\n",
       "      <td>JavaScript</td>\n",
       "      <td>\\n\\n\\n\\n\\n\\n\\n\\n\\n\\n\\n\\nSupporting Vue.js\\nVue...</td>\n",
       "      <td>supporting vuejs vuejs is an mitlicensed open ...</td>\n",
       "    </tr>\n",
       "    <tr>\n",
       "      <th>3</th>\n",
       "      <td>facebook/react</td>\n",
       "      <td>JavaScript</td>\n",
       "      <td>\\nReact ·    \\nReact is a JavaScript library f...</td>\n",
       "      <td>react react is a javascript library for buildi...</td>\n",
       "    </tr>\n",
       "    <tr>\n",
       "      <th>4</th>\n",
       "      <td>tensorflow/tensorflow</td>\n",
       "      <td>C++</td>\n",
       "      <td>\\n\\n\\n\\n\\n\\n\\nDocumentation\\n\\n\\n\\n\\n\\n\\n\\n\\nT...</td>\n",
       "      <td>documentation tensorflow is an endtoend open s...</td>\n",
       "    </tr>\n",
       "    <tr>\n",
       "      <th>...</th>\n",
       "      <td>...</td>\n",
       "      <td>...</td>\n",
       "      <td>...</td>\n",
       "      <td>...</td>\n",
       "    </tr>\n",
       "    <tr>\n",
       "      <th>163</th>\n",
       "      <td>Trinea/android-open-project</td>\n",
       "      <td>None</td>\n",
       "      <td>\\nAndroid 开源项目分类汇总，更全更新可见 codekk.com\\nOther: E...</td>\n",
       "      <td>android codekkcom other english version websit...</td>\n",
       "    </tr>\n",
       "    <tr>\n",
       "      <th>164</th>\n",
       "      <td>PhilJay/MPAndroidChart</td>\n",
       "      <td>Java</td>\n",
       "      <td>\\n\\n\\n\\n\\n\\n\\n⚡️ A powerful &amp; easy to use char...</td>\n",
       "      <td>a powerful easy to use chart library for andro...</td>\n",
       "    </tr>\n",
       "    <tr>\n",
       "      <th>165</th>\n",
       "      <td>tiimgreen/github-cheat-sheet</td>\n",
       "      <td>None</td>\n",
       "      <td>\\nGitHub Cheat Sheet \\nA collection of cool hi...</td>\n",
       "      <td>github cheat sheet a collection of cool hidden...</td>\n",
       "    </tr>\n",
       "    <tr>\n",
       "      <th>166</th>\n",
       "      <td>XX-net/XX-Net</td>\n",
       "      <td>Python</td>\n",
       "      <td>\\nXX-Net\\n中文文档      English      فارسی صفحه اص...</td>\n",
       "      <td>xxnet english gaeproxyxtunnel gaeproxy xtunnel...</td>\n",
       "    </tr>\n",
       "    <tr>\n",
       "      <th>167</th>\n",
       "      <td>sahat/hackathon-starter</td>\n",
       "      <td>JavaScript</td>\n",
       "      <td>\\n\\nHackathon Starter\\n   \\nLive Demo: https:/...</td>\n",
       "      <td>hackathon starter live demo httpshackathonstar...</td>\n",
       "    </tr>\n",
       "  </tbody>\n",
       "</table>\n",
       "<p>168 rows × 4 columns</p>\n",
       "</div>"
      ],
      "text/plain": [
       "                             repo    language  \\\n",
       "0       freeCodeCamp/freeCodeCamp  JavaScript   \n",
       "1                  996icu/996.ICU        Rust   \n",
       "2                       vuejs/vue  JavaScript   \n",
       "3                  facebook/react  JavaScript   \n",
       "4           tensorflow/tensorflow         C++   \n",
       "..                            ...         ...   \n",
       "163   Trinea/android-open-project        None   \n",
       "164        PhilJay/MPAndroidChart        Java   \n",
       "165  tiimgreen/github-cheat-sheet        None   \n",
       "166                 XX-net/XX-Net      Python   \n",
       "167       sahat/hackathon-starter  JavaScript   \n",
       "\n",
       "                                                readme  \\\n",
       "0    \\n\\n\\n\\n\\n\\nfreeCodeCamp.org's open-source cod...   \n",
       "1    \\n996.ICU\\nPlease note that there exists NO ot...   \n",
       "2    \\n\\n\\n\\n\\n\\n\\n\\n\\n\\n\\n\\nSupporting Vue.js\\nVue...   \n",
       "3    \\nReact ·    \\nReact is a JavaScript library f...   \n",
       "4    \\n\\n\\n\\n\\n\\n\\nDocumentation\\n\\n\\n\\n\\n\\n\\n\\n\\nT...   \n",
       "..                                                 ...   \n",
       "163  \\nAndroid 开源项目分类汇总，更全更新可见 codekk.com\\nOther: E...   \n",
       "164  \\n\\n\\n\\n\\n\\n\\n⚡️ A powerful & easy to use char...   \n",
       "165  \\nGitHub Cheat Sheet \\nA collection of cool hi...   \n",
       "166  \\nXX-Net\\n中文文档      English      فارسی صفحه اص...   \n",
       "167  \\n\\nHackathon Starter\\n   \\nLive Demo: https:/...   \n",
       "\n",
       "                                         clean_and_lem  \n",
       "0    freecodecamporg's opensource codebase and curr...  \n",
       "1    996icu please note that there exists no other ...  \n",
       "2    supporting vuejs vuejs is an mitlicensed open ...  \n",
       "3    react react is a javascript library for buildi...  \n",
       "4    documentation tensorflow is an endtoend open s...  \n",
       "..                                                 ...  \n",
       "163  android codekkcom other english version websit...  \n",
       "164  a powerful easy to use chart library for andro...  \n",
       "165  github cheat sheet a collection of cool hidden...  \n",
       "166  xxnet english gaeproxyxtunnel gaeproxy xtunnel...  \n",
       "167  hackathon starter live demo httpshackathonstar...  \n",
       "\n",
       "[168 rows x 4 columns]"
      ]
     },
     "execution_count": 26,
     "metadata": {},
     "output_type": "execute_result"
    }
   ],
   "source": [
    "df_merged"
   ]
  },
  {
   "cell_type": "code",
   "execution_count": 25,
   "metadata": {},
   "outputs": [],
   "source": [
    "df_merged = df_merged.drop('index',axis=1)"
   ]
  },
  {
   "cell_type": "code",
   "execution_count": 27,
   "metadata": {},
   "outputs": [],
   "source": [
    "merged_json = df_merged.to_json()"
   ]
  },
  {
   "cell_type": "code",
   "execution_count": null,
   "metadata": {},
   "outputs": [],
   "source": []
  },
  {
   "cell_type": "code",
   "execution_count": null,
   "metadata": {},
   "outputs": [],
   "source": []
  }
 ],
 "metadata": {
  "kernelspec": {
   "display_name": "Python 3",
   "language": "python",
   "name": "python3"
  },
  "language_info": {
   "codemirror_mode": {
    "name": "ipython",
    "version": 3
   },
   "file_extension": ".py",
   "mimetype": "text/x-python",
   "name": "python",
   "nbconvert_exporter": "python",
   "pygments_lexer": "ipython3",
   "version": "3.7.3"
  }
 },
 "nbformat": 4,
 "nbformat_minor": 2
}
