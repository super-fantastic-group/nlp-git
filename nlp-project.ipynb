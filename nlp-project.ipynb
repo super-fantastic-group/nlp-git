{
 "cells": [
  {
   "cell_type": "markdown",
   "metadata": {},
   "source": [
    "# Hey README, tell me your secrets "
   ]
  },
  {
   "cell_type": "markdown",
   "metadata": {},
   "source": [
    "## Plan"
   ]
  },
  {
   "cell_type": "markdown",
   "metadata": {},
   "source": [
    "Goal: Scrape READMEs in github to determine their respective programing language\n",
    "\n",
    "To Do: \n",
    "- Find readmes to scrape, at least 100 \n",
    "- Pull content\n",
    "\n",
    "Findings: "
   ]
  },
  {
   "cell_type": "code",
   "execution_count": 1,
   "metadata": {},
   "outputs": [],
   "source": [
    "# data wrangling\n",
    "import pandas as pd\n",
    "import numpy as np\n",
    "import json\n",
    "\n",
    "#visuals\n",
    "import matplotlib.pyplot as plt\n",
    "import seaborn as sns\n",
    "\n",
    "# modules\n",
    "import acquire\n",
    "import prepare\n",
    "import explore\n",
    "import model\n",
    "\n",
    "# ignore warnings\n",
    "import warnings\n",
    "warnings.filterwarnings(\"ignore\")"
   ]
  },
  {
   "cell_type": "markdown",
   "metadata": {},
   "source": [
    "## Acquire"
   ]
  },
  {
   "cell_type": "markdown",
   "metadata": {},
   "source": [
    "A list of 100 pages to scrape are generated using the `acquire.loop_through_urls` function. They are saved to a csv and that csv file is being read for further manipulation. "
   ]
  },
  {
   "cell_type": "code",
   "execution_count": 2,
   "metadata": {},
   "outputs": [],
   "source": [
    "# to_scrape = acquire.loop_through_urls()\n",
    "# to_scrape = pd.DataFrame(to_scrape)\n",
    "# to_scrape.to_csv(\"URL_list_100_final.csv\")"
   ]
  },
  {
   "cell_type": "code",
   "execution_count": 3,
   "metadata": {},
   "outputs": [
    {
     "data": {
      "text/html": [
       "<div>\n",
       "<style scoped>\n",
       "    .dataframe tbody tr th:only-of-type {\n",
       "        vertical-align: middle;\n",
       "    }\n",
       "\n",
       "    .dataframe tbody tr th {\n",
       "        vertical-align: top;\n",
       "    }\n",
       "\n",
       "    .dataframe thead th {\n",
       "        text-align: right;\n",
       "    }\n",
       "</style>\n",
       "<table border=\"1\" class=\"dataframe\">\n",
       "  <thead>\n",
       "    <tr style=\"text-align: right;\">\n",
       "      <th></th>\n",
       "      <th>page</th>\n",
       "    </tr>\n",
       "  </thead>\n",
       "  <tbody>\n",
       "    <tr>\n",
       "      <th>0</th>\n",
       "      <td>http://github.com/freeCodeCamp/freeCodeCamp</td>\n",
       "    </tr>\n",
       "    <tr>\n",
       "      <th>1</th>\n",
       "      <td>http://github.com/996icu/996.ICU</td>\n",
       "    </tr>\n",
       "    <tr>\n",
       "      <th>2</th>\n",
       "      <td>http://github.com/vuejs/vue</td>\n",
       "    </tr>\n",
       "    <tr>\n",
       "      <th>3</th>\n",
       "      <td>http://github.com/facebook/react</td>\n",
       "    </tr>\n",
       "    <tr>\n",
       "      <th>4</th>\n",
       "      <td>http://github.com/tensorflow/tensorflow</td>\n",
       "    </tr>\n",
       "    <tr>\n",
       "      <th>...</th>\n",
       "      <td>...</td>\n",
       "    </tr>\n",
       "    <tr>\n",
       "      <th>95</th>\n",
       "      <td>http://github.com/ansible/ansible</td>\n",
       "    </tr>\n",
       "    <tr>\n",
       "      <th>96</th>\n",
       "      <td>http://github.com/kdn251/interviews</td>\n",
       "    </tr>\n",
       "    <tr>\n",
       "      <th>97</th>\n",
       "      <td>http://github.com/gatsbyjs/gatsby</td>\n",
       "    </tr>\n",
       "    <tr>\n",
       "      <th>98</th>\n",
       "      <td>http://github.com/opencv/opencv</td>\n",
       "    </tr>\n",
       "    <tr>\n",
       "      <th>99</th>\n",
       "      <td>http://github.com/mtdvio/every-programmer-shou...</td>\n",
       "    </tr>\n",
       "  </tbody>\n",
       "</table>\n",
       "<p>100 rows × 1 columns</p>\n",
       "</div>"
      ],
      "text/plain": [
       "                                                 page\n",
       "0         http://github.com/freeCodeCamp/freeCodeCamp\n",
       "1                    http://github.com/996icu/996.ICU\n",
       "2                         http://github.com/vuejs/vue\n",
       "3                    http://github.com/facebook/react\n",
       "4             http://github.com/tensorflow/tensorflow\n",
       "..                                                ...\n",
       "95                  http://github.com/ansible/ansible\n",
       "96                http://github.com/kdn251/interviews\n",
       "97                  http://github.com/gatsbyjs/gatsby\n",
       "98                    http://github.com/opencv/opencv\n",
       "99  http://github.com/mtdvio/every-programmer-shou...\n",
       "\n",
       "[100 rows x 1 columns]"
      ]
     },
     "execution_count": 3,
     "metadata": {},
     "output_type": "execute_result"
    }
   ],
   "source": [
    "# read in list of pages generated from function \n",
    "pd.read_csv(\"URL_list_100.csv\", header=0, names=[\"page\"])"
   ]
  },
  {
   "cell_type": "markdown",
   "metadata": {},
   "source": [
    "The dataframe of 100 pages that was just created is looped through, and on each page, it's respective repository, language, and readme is extracted as a dictionary, using the `acquire.make_corpus` function. \n",
    "\n",
    "The `acquire.get_corpus` fuction checks to see if the data file is in the cache. If it is, it reads it in as a dataframe, if file is not in cache, the above mentioned function is run to generate it."
   ]
  },
  {
   "cell_type": "code",
   "execution_count": 4,
   "metadata": {},
   "outputs": [],
   "source": [
    "df_init = acquire.get_corpus()"
   ]
  },
  {
   "cell_type": "code",
   "execution_count": 5,
   "metadata": {},
   "outputs": [
    {
     "data": {
      "text/html": [
       "<div>\n",
       "<style scoped>\n",
       "    .dataframe tbody tr th:only-of-type {\n",
       "        vertical-align: middle;\n",
       "    }\n",
       "\n",
       "    .dataframe tbody tr th {\n",
       "        vertical-align: top;\n",
       "    }\n",
       "\n",
       "    .dataframe thead th {\n",
       "        text-align: right;\n",
       "    }\n",
       "</style>\n",
       "<table border=\"1\" class=\"dataframe\">\n",
       "  <thead>\n",
       "    <tr style=\"text-align: right;\">\n",
       "      <th></th>\n",
       "      <th>repo</th>\n",
       "      <th>language</th>\n",
       "      <th>readme</th>\n",
       "    </tr>\n",
       "  </thead>\n",
       "  <tbody>\n",
       "    <tr>\n",
       "      <th>0</th>\n",
       "      <td>freeCodeCamp/freeCodeCamp</td>\n",
       "      <td>JavaScript</td>\n",
       "      <td>\\n\\n\\n\\n\\n\\nfreeCodeCamp.org's open-source cod...</td>\n",
       "    </tr>\n",
       "    <tr>\n",
       "      <th>1</th>\n",
       "      <td>996icu/996.ICU</td>\n",
       "      <td>Rust</td>\n",
       "      <td>\\n996.ICU\\nPlease note that there exists NO ot...</td>\n",
       "    </tr>\n",
       "    <tr>\n",
       "      <th>2</th>\n",
       "      <td>vuejs/vue</td>\n",
       "      <td>JavaScript</td>\n",
       "      <td>\\n\\n\\n\\n\\n\\n\\n\\n\\n\\n\\n\\nSupporting Vue.js\\nVue...</td>\n",
       "    </tr>\n",
       "    <tr>\n",
       "      <th>3</th>\n",
       "      <td>facebook/react</td>\n",
       "      <td>JavaScript</td>\n",
       "      <td>\\nReact ·    \\nReact is a JavaScript library f...</td>\n",
       "    </tr>\n",
       "    <tr>\n",
       "      <th>4</th>\n",
       "      <td>tensorflow/tensorflow</td>\n",
       "      <td>C++</td>\n",
       "      <td>\\n\\n\\n\\n\\n\\n\\nDocumentation\\n\\n\\n\\n\\n\\n\\n\\n\\nT...</td>\n",
       "    </tr>\n",
       "    <tr>\n",
       "      <th>...</th>\n",
       "      <td>...</td>\n",
       "      <td>...</td>\n",
       "      <td>...</td>\n",
       "    </tr>\n",
       "    <tr>\n",
       "      <th>95</th>\n",
       "      <td>ansible/ansible</td>\n",
       "      <td>Python</td>\n",
       "      <td>\\n\\n \\n \\n  \\n \\n \\n\\n\\nAnsible\\nAnsible is a ...</td>\n",
       "    </tr>\n",
       "    <tr>\n",
       "      <th>96</th>\n",
       "      <td>kdn251/interviews</td>\n",
       "      <td>Java</td>\n",
       "      <td>\\nInterviews\\n\\nYour personal guide to Softwar...</td>\n",
       "    </tr>\n",
       "    <tr>\n",
       "      <th>97</th>\n",
       "      <td>gatsbyjs/gatsby</td>\n",
       "      <td>JavaScript</td>\n",
       "      <td>\\n\\n\\n\\n\\n\\n\\n  Gatsby v2\\n\\n\\n⚛️ 📄 🚀\\n\\n\\n  F...</td>\n",
       "    </tr>\n",
       "    <tr>\n",
       "      <th>98</th>\n",
       "      <td>opencv/opencv</td>\n",
       "      <td>C++</td>\n",
       "      <td>\\nOpenCV: Open Source Computer Vision Library\\...</td>\n",
       "    </tr>\n",
       "    <tr>\n",
       "      <th>99</th>\n",
       "      <td>mtdvio/every-programmer-should-know</td>\n",
       "      <td>None</td>\n",
       "      <td>\\n\\nJoin our community for professional Softwa...</td>\n",
       "    </tr>\n",
       "  </tbody>\n",
       "</table>\n",
       "<p>100 rows × 3 columns</p>\n",
       "</div>"
      ],
      "text/plain": [
       "                                   repo    language  \\\n",
       "0             freeCodeCamp/freeCodeCamp  JavaScript   \n",
       "1                        996icu/996.ICU        Rust   \n",
       "2                             vuejs/vue  JavaScript   \n",
       "3                        facebook/react  JavaScript   \n",
       "4                 tensorflow/tensorflow         C++   \n",
       "..                                  ...         ...   \n",
       "95                      ansible/ansible      Python   \n",
       "96                    kdn251/interviews        Java   \n",
       "97                      gatsbyjs/gatsby  JavaScript   \n",
       "98                        opencv/opencv         C++   \n",
       "99  mtdvio/every-programmer-should-know        None   \n",
       "\n",
       "                                               readme  \n",
       "0   \\n\\n\\n\\n\\n\\nfreeCodeCamp.org's open-source cod...  \n",
       "1   \\n996.ICU\\nPlease note that there exists NO ot...  \n",
       "2   \\n\\n\\n\\n\\n\\n\\n\\n\\n\\n\\n\\nSupporting Vue.js\\nVue...  \n",
       "3   \\nReact ·    \\nReact is a JavaScript library f...  \n",
       "4   \\n\\n\\n\\n\\n\\n\\nDocumentation\\n\\n\\n\\n\\n\\n\\n\\n\\nT...  \n",
       "..                                                ...  \n",
       "95  \\n\\n \\n \\n  \\n \\n \\n\\n\\nAnsible\\nAnsible is a ...  \n",
       "96  \\nInterviews\\n\\nYour personal guide to Softwar...  \n",
       "97  \\n\\n\\n\\n\\n\\n\\n  Gatsby v2\\n\\n\\n⚛️ 📄 🚀\\n\\n\\n  F...  \n",
       "98  \\nOpenCV: Open Source Computer Vision Library\\...  \n",
       "99  \\n\\nJoin our community for professional Softwa...  \n",
       "\n",
       "[100 rows x 3 columns]"
      ]
     },
     "execution_count": 5,
     "metadata": {},
     "output_type": "execute_result"
    }
   ],
   "source": [
    "df_init"
   ]
  },
  {
   "cell_type": "markdown",
   "metadata": {},
   "source": [
    "## Prepare"
   ]
  },
  {
   "cell_type": "code",
   "execution_count": 6,
   "metadata": {},
   "outputs": [],
   "source": [
    "# make a copy for prepping and exploring\n",
    "df = df_init.copy()"
   ]
  },
  {
   "cell_type": "code",
   "execution_count": 7,
   "metadata": {},
   "outputs": [
    {
     "data": {
      "text/plain": [
       "JavaScript          34\n",
       "Python              14\n",
       "None                12\n",
       "Java                 8\n",
       "C++                  6\n",
       "TypeScript           6\n",
       "Go                   4\n",
       "Rust                 2\n",
       "C                    2\n",
       "Vue                  2\n",
       "C#                   1\n",
       "Ruby                 1\n",
       "CSS                  1\n",
       "Clojure              1\n",
       "PHP                  1\n",
       "Dart                 1\n",
       "Assembly             1\n",
       "Jupyter Notebook     1\n",
       "Shell                1\n",
       "HTML                 1\n",
       "Name: language, dtype: int64"
      ]
     },
     "execution_count": 7,
     "metadata": {},
     "output_type": "execute_result"
    }
   ],
   "source": [
    "df.language.value_counts(dropna=False)"
   ]
  },
  {
   "cell_type": "markdown",
   "metadata": {},
   "source": [
    "Using the `prepare.cut_singles` function, remove the languages that only have a single readme represented."
   ]
  },
  {
   "cell_type": "code",
   "execution_count": 8,
   "metadata": {},
   "outputs": [],
   "source": [
    "df = prepare.cut_singles(df)"
   ]
  },
  {
   "cell_type": "code",
   "execution_count": 9,
   "metadata": {},
   "outputs": [
    {
     "data": {
      "text/plain": [
       "JavaScript    34\n",
       "Python        14\n",
       "None          12\n",
       "Java           8\n",
       "TypeScript     6\n",
       "C++            6\n",
       "Go             4\n",
       "C              2\n",
       "Vue            2\n",
       "Rust           2\n",
       "Name: language, dtype: int64"
      ]
     },
     "execution_count": 9,
     "metadata": {},
     "output_type": "execute_result"
    }
   ],
   "source": [
    "df.language.value_counts()"
   ]
  },
  {
   "cell_type": "code",
   "execution_count": 10,
   "metadata": {},
   "outputs": [],
   "source": [
    "# prepare.prep_readme(df)"
   ]
  },
  {
   "cell_type": "code",
   "execution_count": 11,
   "metadata": {},
   "outputs": [],
   "source": [
    "df[\"readme\"] = df.readme.apply(prepare.better_clean).apply(prepare.remove_stopwords).apply(prepare.lemmatize)"
   ]
  },
  {
   "cell_type": "code",
   "execution_count": 12,
   "metadata": {},
   "outputs": [
    {
     "data": {
      "text/html": [
       "<div>\n",
       "<style scoped>\n",
       "    .dataframe tbody tr th:only-of-type {\n",
       "        vertical-align: middle;\n",
       "    }\n",
       "\n",
       "    .dataframe tbody tr th {\n",
       "        vertical-align: top;\n",
       "    }\n",
       "\n",
       "    .dataframe thead th {\n",
       "        text-align: right;\n",
       "    }\n",
       "</style>\n",
       "<table border=\"1\" class=\"dataframe\">\n",
       "  <thead>\n",
       "    <tr style=\"text-align: right;\">\n",
       "      <th></th>\n",
       "      <th>repo</th>\n",
       "      <th>language</th>\n",
       "      <th>readme</th>\n",
       "    </tr>\n",
       "  </thead>\n",
       "  <tbody>\n",
       "    <tr>\n",
       "      <th>0</th>\n",
       "      <td>freeCodeCamp/freeCodeCamp</td>\n",
       "      <td>JavaScript</td>\n",
       "      <td>freecodecamp org open source codebase curricul...</td>\n",
       "    </tr>\n",
       "    <tr>\n",
       "      <th>1</th>\n",
       "      <td>996icu/996.ICU</td>\n",
       "      <td>Rust</td>\n",
       "      <td>icu please note exists official account app me...</td>\n",
       "    </tr>\n",
       "    <tr>\n",
       "      <th>2</th>\n",
       "      <td>vuejs/vue</td>\n",
       "      <td>JavaScript</td>\n",
       "      <td>supporting vue vue mit licensed open source pr...</td>\n",
       "    </tr>\n",
       "    <tr>\n",
       "      <th>3</th>\n",
       "      <td>facebook/react</td>\n",
       "      <td>JavaScript</td>\n",
       "      <td>react react javascript library building user i...</td>\n",
       "    </tr>\n",
       "    <tr>\n",
       "      <th>4</th>\n",
       "      <td>tensorflow/tensorflow</td>\n",
       "      <td>C++</td>\n",
       "      <td>documentation tensorflow end end open source p...</td>\n",
       "    </tr>\n",
       "    <tr>\n",
       "      <th>...</th>\n",
       "      <td>...</td>\n",
       "      <td>...</td>\n",
       "      <td>...</td>\n",
       "    </tr>\n",
       "    <tr>\n",
       "      <th>95</th>\n",
       "      <td>ansible/ansible</td>\n",
       "      <td>Python</td>\n",
       "      <td>ansible ansible radically simple automation sy...</td>\n",
       "    </tr>\n",
       "    <tr>\n",
       "      <th>96</th>\n",
       "      <td>kdn251/interviews</td>\n",
       "      <td>Java</td>\n",
       "      <td>interview personal guide software engineering ...</td>\n",
       "    </tr>\n",
       "    <tr>\n",
       "      <th>97</th>\n",
       "      <td>gatsbyjs/gatsby</td>\n",
       "      <td>JavaScript</td>\n",
       "      <td>gatsby fast every way matter gatsby free open ...</td>\n",
       "    </tr>\n",
       "    <tr>\n",
       "      <th>98</th>\n",
       "      <td>opencv/opencv</td>\n",
       "      <td>C++</td>\n",
       "      <td>opencv open source computer vision library res...</td>\n",
       "    </tr>\n",
       "    <tr>\n",
       "      <th>99</th>\n",
       "      <td>mtdvio/every-programmer-should-know</td>\n",
       "      <td>None</td>\n",
       "      <td>join community professional software developer...</td>\n",
       "    </tr>\n",
       "  </tbody>\n",
       "</table>\n",
       "<p>90 rows × 3 columns</p>\n",
       "</div>"
      ],
      "text/plain": [
       "                                   repo    language  \\\n",
       "0             freeCodeCamp/freeCodeCamp  JavaScript   \n",
       "1                        996icu/996.ICU        Rust   \n",
       "2                             vuejs/vue  JavaScript   \n",
       "3                        facebook/react  JavaScript   \n",
       "4                 tensorflow/tensorflow         C++   \n",
       "..                                  ...         ...   \n",
       "95                      ansible/ansible      Python   \n",
       "96                    kdn251/interviews        Java   \n",
       "97                      gatsbyjs/gatsby  JavaScript   \n",
       "98                        opencv/opencv         C++   \n",
       "99  mtdvio/every-programmer-should-know        None   \n",
       "\n",
       "                                               readme  \n",
       "0   freecodecamp org open source codebase curricul...  \n",
       "1   icu please note exists official account app me...  \n",
       "2   supporting vue vue mit licensed open source pr...  \n",
       "3   react react javascript library building user i...  \n",
       "4   documentation tensorflow end end open source p...  \n",
       "..                                                ...  \n",
       "95  ansible ansible radically simple automation sy...  \n",
       "96  interview personal guide software engineering ...  \n",
       "97  gatsby fast every way matter gatsby free open ...  \n",
       "98  opencv open source computer vision library res...  \n",
       "99  join community professional software developer...  \n",
       "\n",
       "[90 rows x 3 columns]"
      ]
     },
     "execution_count": 12,
     "metadata": {},
     "output_type": "execute_result"
    }
   ],
   "source": [
    "df"
   ]
  },
  {
   "cell_type": "markdown",
   "metadata": {},
   "source": [
    "## Explore"
   ]
  },
  {
   "cell_type": "code",
   "execution_count": 22,
   "metadata": {},
   "outputs": [
    {
     "data": {
      "text/html": [
       "<div>\n",
       "<style scoped>\n",
       "    .dataframe tbody tr th:only-of-type {\n",
       "        vertical-align: middle;\n",
       "    }\n",
       "\n",
       "    .dataframe tbody tr th {\n",
       "        vertical-align: top;\n",
       "    }\n",
       "\n",
       "    .dataframe thead th {\n",
       "        text-align: right;\n",
       "    }\n",
       "</style>\n",
       "<table border=\"1\" class=\"dataframe\">\n",
       "  <thead>\n",
       "    <tr style=\"text-align: right;\">\n",
       "      <th></th>\n",
       "      <th>n</th>\n",
       "      <th>percent</th>\n",
       "    </tr>\n",
       "  </thead>\n",
       "  <tbody>\n",
       "    <tr>\n",
       "      <th>JavaScript</th>\n",
       "      <td>34</td>\n",
       "      <td>0.377778</td>\n",
       "    </tr>\n",
       "    <tr>\n",
       "      <th>Python</th>\n",
       "      <td>14</td>\n",
       "      <td>0.155556</td>\n",
       "    </tr>\n",
       "    <tr>\n",
       "      <th>None</th>\n",
       "      <td>12</td>\n",
       "      <td>0.133333</td>\n",
       "    </tr>\n",
       "    <tr>\n",
       "      <th>Java</th>\n",
       "      <td>8</td>\n",
       "      <td>0.088889</td>\n",
       "    </tr>\n",
       "    <tr>\n",
       "      <th>TypeScript</th>\n",
       "      <td>6</td>\n",
       "      <td>0.066667</td>\n",
       "    </tr>\n",
       "    <tr>\n",
       "      <th>C++</th>\n",
       "      <td>6</td>\n",
       "      <td>0.066667</td>\n",
       "    </tr>\n",
       "    <tr>\n",
       "      <th>Go</th>\n",
       "      <td>4</td>\n",
       "      <td>0.044444</td>\n",
       "    </tr>\n",
       "    <tr>\n",
       "      <th>C</th>\n",
       "      <td>2</td>\n",
       "      <td>0.022222</td>\n",
       "    </tr>\n",
       "    <tr>\n",
       "      <th>Vue</th>\n",
       "      <td>2</td>\n",
       "      <td>0.022222</td>\n",
       "    </tr>\n",
       "    <tr>\n",
       "      <th>Rust</th>\n",
       "      <td>2</td>\n",
       "      <td>0.022222</td>\n",
       "    </tr>\n",
       "  </tbody>\n",
       "</table>\n",
       "</div>"
      ],
      "text/plain": [
       "             n   percent\n",
       "JavaScript  34  0.377778\n",
       "Python      14  0.155556\n",
       "None        12  0.133333\n",
       "Java         8  0.088889\n",
       "TypeScript   6  0.066667\n",
       "C++          6  0.066667\n",
       "Go           4  0.044444\n",
       "C            2  0.022222\n",
       "Vue          2  0.022222\n",
       "Rust         2  0.022222"
      ]
     },
     "execution_count": 22,
     "metadata": {},
     "output_type": "execute_result"
    }
   ],
   "source": [
    "# what is the breakdown of programming languages \n",
    "explore.count_percent(df)"
   ]
  },
  {
   "cell_type": "code",
   "execution_count": 17,
   "metadata": {},
   "outputs": [
    {
     "data": {
      "text/html": [
       "<div>\n",
       "<style scoped>\n",
       "    .dataframe tbody tr th:only-of-type {\n",
       "        vertical-align: middle;\n",
       "    }\n",
       "\n",
       "    .dataframe tbody tr th {\n",
       "        vertical-align: top;\n",
       "    }\n",
       "\n",
       "    .dataframe thead th {\n",
       "        text-align: right;\n",
       "    }\n",
       "</style>\n",
       "<table border=\"1\" class=\"dataframe\">\n",
       "  <thead>\n",
       "    <tr style=\"text-align: right;\">\n",
       "      <th></th>\n",
       "      <th>min</th>\n",
       "      <th>mean</th>\n",
       "      <th>max</th>\n",
       "    </tr>\n",
       "    <tr>\n",
       "      <th>language</th>\n",
       "      <th></th>\n",
       "      <th></th>\n",
       "      <th></th>\n",
       "    </tr>\n",
       "  </thead>\n",
       "  <tbody>\n",
       "    <tr>\n",
       "      <th>C</th>\n",
       "      <td>71</td>\n",
       "      <td>2024.500000</td>\n",
       "      <td>3978</td>\n",
       "    </tr>\n",
       "    <tr>\n",
       "      <th>C++</th>\n",
       "      <td>61</td>\n",
       "      <td>520.500000</td>\n",
       "      <td>1230</td>\n",
       "    </tr>\n",
       "    <tr>\n",
       "      <th>Go</th>\n",
       "      <td>137</td>\n",
       "      <td>3866.500000</td>\n",
       "      <td>14868</td>\n",
       "    </tr>\n",
       "    <tr>\n",
       "      <th>Java</th>\n",
       "      <td>20</td>\n",
       "      <td>746.750000</td>\n",
       "      <td>2382</td>\n",
       "    </tr>\n",
       "    <tr>\n",
       "      <th>JavaScript</th>\n",
       "      <td>50</td>\n",
       "      <td>1092.764706</td>\n",
       "      <td>7425</td>\n",
       "    </tr>\n",
       "    <tr>\n",
       "      <th>None</th>\n",
       "      <td>120</td>\n",
       "      <td>3230.333333</td>\n",
       "      <td>19864</td>\n",
       "    </tr>\n",
       "    <tr>\n",
       "      <th>Python</th>\n",
       "      <td>31</td>\n",
       "      <td>3110.071429</td>\n",
       "      <td>9934</td>\n",
       "    </tr>\n",
       "    <tr>\n",
       "      <th>Rust</th>\n",
       "      <td>433</td>\n",
       "      <td>606.500000</td>\n",
       "      <td>780</td>\n",
       "    </tr>\n",
       "    <tr>\n",
       "      <th>TypeScript</th>\n",
       "      <td>40</td>\n",
       "      <td>496.500000</td>\n",
       "      <td>1594</td>\n",
       "    </tr>\n",
       "    <tr>\n",
       "      <th>Vue</th>\n",
       "      <td>220</td>\n",
       "      <td>306.000000</td>\n",
       "      <td>392</td>\n",
       "    </tr>\n",
       "  </tbody>\n",
       "</table>\n",
       "</div>"
      ],
      "text/plain": [
       "            min         mean    max\n",
       "language                           \n",
       "C            71  2024.500000   3978\n",
       "C++          61   520.500000   1230\n",
       "Go          137  3866.500000  14868\n",
       "Java         20   746.750000   2382\n",
       "JavaScript   50  1092.764706   7425\n",
       "None        120  3230.333333  19864\n",
       "Python       31  3110.071429   9934\n",
       "Rust        433   606.500000    780\n",
       "TypeScript   40   496.500000   1594\n",
       "Vue         220   306.000000    392"
      ]
     },
     "execution_count": 17,
     "metadata": {},
     "output_type": "execute_result"
    }
   ],
   "source": [
    "explore.readme_length(df)"
   ]
  },
  {
   "cell_type": "code",
   "execution_count": 21,
   "metadata": {},
   "outputs": [
    {
     "data": {
      "image/png": "[encoded data removed]",
      "text/plain": [
       "<Figure size 432x288 with 1 Axes>"
      ]
     },
     "metadata": {
      "needs_background": "light"
     },
     "output_type": "display_data"
    }
   ],
   "source": [
    "explore.readme_length(df).plot.bar()\n",
    "plt.show()"
   ]
  },
  {
   "cell_type": "markdown",
   "metadata": {},
   "source": [
    "### Model\n",
    "\n",
    "Model will use the entire 100 rows of corpus. It is then stripped of unnecssary characters and brokend down into \n",
    "\n",
    "components with lemmatization."
   ]
  },
  {
   "cell_type": "code",
   "execution_count": 2,
   "metadata": {},
   "outputs": [],
   "source": [
    "df = acquire.get_corpus()\n",
    "df['clean_and_lem'] = df.readme.apply(prepare.basic_clean).apply(prepare.lemmatize)\n",
    "df = prepare.cut_singles(df)"
   ]
  },
  {
   "cell_type": "markdown",
   "metadata": {},
   "source": [
    "The data is broken into training and testing sets. In this instance it will be a 70/30 split."
   ]
  },
  {
   "cell_type": "code",
   "execution_count": 3,
   "metadata": {},
   "outputs": [],
   "source": [
    "X_train, X_test, train, test = model.make_model_components(df.clean_and_lem, df.language, .3)"
   ]
  },
  {
   "cell_type": "code",
   "execution_count": 4,
   "metadata": {},
   "outputs": [],
   "source": [
    "predictons = model.run_the_tree_model(X_train, train.actual, 6)\n",
    "train['predictions'] = predictons"
   ]
  },
  {
   "cell_type": "markdown",
   "metadata": {},
   "source": [
    "#### Accuracy scores for the model on the Training set"
   ]
  },
  {
   "cell_type": "code",
   "execution_count": 5,
   "metadata": {},
   "outputs": [
    {
     "name": "stdout",
     "output_type": "stream",
     "text": [
      "Accuracy: 93.65%\n",
      "---\n",
      "Confusion Matrix\n",
      "actual       C  C++  Go  Java  JavaScript  None  Python  Rust  TypeScript  Vue\n",
      "predictions                                                                   \n",
      "C            1    0   1     0           0     0       0     0           0    1\n",
      "C++          0    3   0     0           0     0       0     0           0    0\n",
      "Go           0    0   2     0           0     0       1     0           0    0\n",
      "Java         0    0   0     6           0     0       0     0           0    0\n",
      "JavaScript   0    1   0     0          24     0       0     0           0    0\n",
      "None         0    0   0     0           0     9       0     0           0    0\n",
      "Python       0    0   0     0           0     0       9     0           0    0\n",
      "Rust         0    0   0     0           0     0       0     1           0    0\n",
      "TypeScript   0    0   0     0           0     0       0     0           4    0\n",
      "---\n",
      "              precision    recall  f1-score   support\n",
      "\n",
      "           C       0.33      1.00      0.50         1\n",
      "         C++       1.00      0.75      0.86         4\n",
      "          Go       0.67      0.67      0.67         3\n",
      "        Java       1.00      1.00      1.00         6\n",
      "  JavaScript       0.96      1.00      0.98        24\n",
      "        None       1.00      1.00      1.00         9\n",
      "      Python       1.00      0.90      0.95        10\n",
      "        Rust       1.00      1.00      1.00         1\n",
      "  TypeScript       1.00      1.00      1.00         4\n",
      "         Vue       0.00      0.00      0.00         1\n",
      "\n",
      "    accuracy                           0.94        63\n",
      "   macro avg       0.80      0.83      0.80        63\n",
      "weighted avg       0.94      0.94      0.94        63\n",
      "\n"
     ]
    }
   ],
   "source": [
    "model.score_your_model(train.actual, train.predictions)"
   ]
  },
  {
   "cell_type": "markdown",
   "metadata": {},
   "source": [
    "#### Accuracy scores for the model on the Test set"
   ]
  },
  {
   "cell_type": "code",
   "execution_count": 7,
   "metadata": {},
   "outputs": [
    {
     "name": "stdout",
     "output_type": "stream",
     "text": [
      "Accuracy: 100.00%\n",
      "---\n",
      "Confusion Matrix\n",
      "actual       C  C++  Go  Java  JavaScript  None  Python  Rust  TypeScript  Vue\n",
      "predictions                                                                   \n",
      "C            1    0   0     0           0     0       0     0           0    0\n",
      "C++          0    2   0     0           0     0       0     0           0    0\n",
      "Go           0    0   1     0           0     0       0     0           0    0\n",
      "Java         0    0   0     2           0     0       0     0           0    0\n",
      "JavaScript   0    0   0     0          10     0       0     0           0    0\n",
      "None         0    0   0     0           0     3       0     0           0    0\n",
      "Python       0    0   0     0           0     0       4     0           0    0\n",
      "Rust         0    0   0     0           0     0       0     1           0    0\n",
      "TypeScript   0    0   0     0           0     0       0     0           2    0\n",
      "Vue          0    0   0     0           0     0       0     0           0    1\n",
      "---\n",
      "              precision    recall  f1-score   support\n",
      "\n",
      "           C       1.00      1.00      1.00         1\n",
      "         C++       1.00      1.00      1.00         2\n",
      "          Go       1.00      1.00      1.00         1\n",
      "        Java       1.00      1.00      1.00         2\n",
      "  JavaScript       1.00      1.00      1.00        10\n",
      "        None       1.00      1.00      1.00         3\n",
      "      Python       1.00      1.00      1.00         4\n",
      "        Rust       1.00      1.00      1.00         1\n",
      "  TypeScript       1.00      1.00      1.00         2\n",
      "         Vue       1.00      1.00      1.00         1\n",
      "\n",
      "    accuracy                           1.00        27\n",
      "   macro avg       1.00      1.00      1.00        27\n",
      "weighted avg       1.00      1.00      1.00        27\n",
      "\n"
     ]
    }
   ],
   "source": [
    "test_predictons = model.run_the_tree_model(X_test, test.actual, 6)\n",
    "test['predictions'] = test_predictons\n",
    "model.score_your_model(test.actual, test.predictions)"
   ]
  },
  {
   "cell_type": "code",
   "execution_count": null,
   "metadata": {},
   "outputs": [],
   "source": []
  }
 ],
 "metadata": {
  "kernelspec": {
   "display_name": "Python 3",
   "language": "python",
   "name": "python3"
  },
  "language_info": {
   "codemirror_mode": {
    "name": "ipython",
    "version": 3
   },
   "file_extension": ".py",
   "mimetype": "text/x-python",
   "name": "python",
   "nbconvert_exporter": "python",
   "pygments_lexer": "ipython3",
   "version": "3.7.3"
  },
  "toc": {
   "base_numbering": 1,
   "nav_menu": {},
   "number_sections": false,
   "sideBar": true,
   "skip_h1_title": true,
   "title_cell": "Table of Contents",
   "title_sidebar": "Contents",
   "toc_cell": false,
   "toc_position": {},
   "toc_section_display": true,
   "toc_window_display": false
  }
 },
 "nbformat": 4,
 "nbformat_minor": 2
}
