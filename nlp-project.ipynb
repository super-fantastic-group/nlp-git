{
 "cells": [
  {
   "cell_type": "markdown",
   "metadata": {},
   "source": [
    "# Hey README, tell me your secrets "
   ]
  },
  {
   "cell_type": "code",
   "execution_count": 1,
   "metadata": {},
   "outputs": [],
   "source": [
    "# data wrangling\n",
    "import pandas as pd\n",
    "import numpy as np\n",
    "import json\n",
    "\n",
    "#visuals\n",
    "import matplotlib.pyplot as plt\n",
    "import seaborn as sns\n",
    "\n",
    "# modules\n",
    "import acquire\n",
    "import prepare\n",
    "import explore\n",
    "import model\n",
    "\n",
    "# ignore warnings\n",
    "import warnings\n",
    "warnings.filterwarnings(\"ignore\")"
   ]
  },
  {
   "cell_type": "markdown",
   "metadata": {},
   "source": [
    "## Acquire"
   ]
  },
  {
   "cell_type": "markdown",
   "metadata": {},
   "source": [
    "A list of 100 pages to scrape are generated using the `acquire.loop_through_urls` function. They are saved to a csv and that csv file is being read for further manipulation. "
   ]
  },
  {
   "cell_type": "code",
   "execution_count": 2,
   "metadata": {},
   "outputs": [],
   "source": [
    "# to_scrape = acquire.loop_through_urls()\n",
    "# to_scrape = pd.DataFrame(to_scrape)\n",
    "# to_scrape.to_csv(\"URL_list_100_final.csv\")"
   ]
  },
  {
   "cell_type": "code",
   "execution_count": 3,
   "metadata": {},
   "outputs": [
    {
     "data": {
      "text/html": [
       "<div>\n",
       "<style scoped>\n",
       "    .dataframe tbody tr th:only-of-type {\n",
       "        vertical-align: middle;\n",
       "    }\n",
       "\n",
       "    .dataframe tbody tr th {\n",
       "        vertical-align: top;\n",
       "    }\n",
       "\n",
       "    .dataframe thead th {\n",
       "        text-align: right;\n",
       "    }\n",
       "</style>\n",
       "<table border=\"1\" class=\"dataframe\">\n",
       "  <thead>\n",
       "    <tr style=\"text-align: right;\">\n",
       "      <th></th>\n",
       "      <th>page</th>\n",
       "    </tr>\n",
       "  </thead>\n",
       "  <tbody>\n",
       "    <tr>\n",
       "      <th>0</th>\n",
       "      <td>http://github.com/freeCodeCamp/freeCodeCamp</td>\n",
       "    </tr>\n",
       "    <tr>\n",
       "      <th>1</th>\n",
       "      <td>http://github.com/996icu/996.ICU</td>\n",
       "    </tr>\n",
       "    <tr>\n",
       "      <th>2</th>\n",
       "      <td>http://github.com/vuejs/vue</td>\n",
       "    </tr>\n",
       "    <tr>\n",
       "      <th>3</th>\n",
       "      <td>http://github.com/facebook/react</td>\n",
       "    </tr>\n",
       "    <tr>\n",
       "      <th>4</th>\n",
       "      <td>http://github.com/tensorflow/tensorflow</td>\n",
       "    </tr>\n",
       "    <tr>\n",
       "      <th>...</th>\n",
       "      <td>...</td>\n",
       "    </tr>\n",
       "    <tr>\n",
       "      <th>95</th>\n",
       "      <td>http://github.com/ansible/ansible</td>\n",
       "    </tr>\n",
       "    <tr>\n",
       "      <th>96</th>\n",
       "      <td>http://github.com/kdn251/interviews</td>\n",
       "    </tr>\n",
       "    <tr>\n",
       "      <th>97</th>\n",
       "      <td>http://github.com/gatsbyjs/gatsby</td>\n",
       "    </tr>\n",
       "    <tr>\n",
       "      <th>98</th>\n",
       "      <td>http://github.com/opencv/opencv</td>\n",
       "    </tr>\n",
       "    <tr>\n",
       "      <th>99</th>\n",
       "      <td>http://github.com/mtdvio/every-programmer-shou...</td>\n",
       "    </tr>\n",
       "  </tbody>\n",
       "</table>\n",
       "<p>100 rows × 1 columns</p>\n",
       "</div>"
      ],
      "text/plain": [
       "                                                 page\n",
       "0         http://github.com/freeCodeCamp/freeCodeCamp\n",
       "1                    http://github.com/996icu/996.ICU\n",
       "2                         http://github.com/vuejs/vue\n",
       "3                    http://github.com/facebook/react\n",
       "4             http://github.com/tensorflow/tensorflow\n",
       "..                                                ...\n",
       "95                  http://github.com/ansible/ansible\n",
       "96                http://github.com/kdn251/interviews\n",
       "97                  http://github.com/gatsbyjs/gatsby\n",
       "98                    http://github.com/opencv/opencv\n",
       "99  http://github.com/mtdvio/every-programmer-shou...\n",
       "\n",
       "[100 rows x 1 columns]"
      ]
     },
     "execution_count": 3,
     "metadata": {},
     "output_type": "execute_result"
    }
   ],
   "source": [
    "# read in list of pages generated from function \n",
    "pd.read_csv(\"URL_list_100.csv\", header=0, names=[\"page\"])"
   ]
  },
  {
   "cell_type": "markdown",
   "metadata": {},
   "source": [
    "The dataframe of 100 pages that was just created is looped through, and on each page, it's respective repository, language, and readme is extracted as a dictionary, using the `acquire.make_corpus` function. \n",
    "\n",
    "The `acquire.get_corpus` fuction checks to see if the data file is in the cache. If it is, it reads it in as a dataframe, if file is not in cache, the above mentioned function is run to generate it."
   ]
  },
  {
   "cell_type": "code",
   "execution_count": 4,
   "metadata": {},
   "outputs": [],
   "source": [
    "df = acquire.get_big_corpus()"
   ]
  },
  {
   "cell_type": "code",
   "execution_count": 5,
   "metadata": {},
   "outputs": [
    {
     "data": {
      "text/html": [
       "<div>\n",
       "<style scoped>\n",
       "    .dataframe tbody tr th:only-of-type {\n",
       "        vertical-align: middle;\n",
       "    }\n",
       "\n",
       "    .dataframe tbody tr th {\n",
       "        vertical-align: top;\n",
       "    }\n",
       "\n",
       "    .dataframe thead th {\n",
       "        text-align: right;\n",
       "    }\n",
       "</style>\n",
       "<table border=\"1\" class=\"dataframe\">\n",
       "  <thead>\n",
       "    <tr style=\"text-align: right;\">\n",
       "      <th></th>\n",
       "      <th>repo</th>\n",
       "      <th>language</th>\n",
       "      <th>readme</th>\n",
       "    </tr>\n",
       "  </thead>\n",
       "  <tbody>\n",
       "    <tr>\n",
       "      <th>0</th>\n",
       "      <td>freeCodeCamp/freeCodeCamp</td>\n",
       "      <td>JavaScript</td>\n",
       "      <td>\\n\\n\\n\\n\\n\\nfreeCodeCamp.org's open-source cod...</td>\n",
       "    </tr>\n",
       "    <tr>\n",
       "      <th>1</th>\n",
       "      <td>996icu/996.ICU</td>\n",
       "      <td>Rust</td>\n",
       "      <td>\\n996.ICU\\nPlease note that there exists NO ot...</td>\n",
       "    </tr>\n",
       "    <tr>\n",
       "      <th>2</th>\n",
       "      <td>vuejs/vue</td>\n",
       "      <td>JavaScript</td>\n",
       "      <td>\\n\\n\\n\\n\\n\\n\\n\\n\\n\\n\\n\\nSupporting Vue.js\\nVue...</td>\n",
       "    </tr>\n",
       "    <tr>\n",
       "      <th>3</th>\n",
       "      <td>facebook/react</td>\n",
       "      <td>JavaScript</td>\n",
       "      <td>\\nReact ·    \\nReact is a JavaScript library f...</td>\n",
       "    </tr>\n",
       "    <tr>\n",
       "      <th>4</th>\n",
       "      <td>tensorflow/tensorflow</td>\n",
       "      <td>C++</td>\n",
       "      <td>\\n\\n\\n\\n\\n\\n\\nDocumentation\\n\\n\\n\\n\\n\\n\\n\\n\\nT...</td>\n",
       "    </tr>\n",
       "    <tr>\n",
       "      <th>...</th>\n",
       "      <td>...</td>\n",
       "      <td>...</td>\n",
       "      <td>...</td>\n",
       "    </tr>\n",
       "    <tr>\n",
       "      <th>85</th>\n",
       "      <td>Trinea/android-open-project</td>\n",
       "      <td>None</td>\n",
       "      <td>\\nAndroid 开源项目分类汇总，更全更新可见 codekk.com\\nOther: E...</td>\n",
       "    </tr>\n",
       "    <tr>\n",
       "      <th>86</th>\n",
       "      <td>PhilJay/MPAndroidChart</td>\n",
       "      <td>Java</td>\n",
       "      <td>\\n\\n\\n\\n\\n\\n\\n⚡️ A powerful &amp; easy to use char...</td>\n",
       "    </tr>\n",
       "    <tr>\n",
       "      <th>87</th>\n",
       "      <td>tiimgreen/github-cheat-sheet</td>\n",
       "      <td>None</td>\n",
       "      <td>\\nGitHub Cheat Sheet \\nA collection of cool hi...</td>\n",
       "    </tr>\n",
       "    <tr>\n",
       "      <th>88</th>\n",
       "      <td>XX-net/XX-Net</td>\n",
       "      <td>Python</td>\n",
       "      <td>\\nXX-Net\\n中文文档      English      فارسی صفحه اص...</td>\n",
       "    </tr>\n",
       "    <tr>\n",
       "      <th>89</th>\n",
       "      <td>sahat/hackathon-starter</td>\n",
       "      <td>JavaScript</td>\n",
       "      <td>\\n\\nHackathon Starter\\n   \\nLive Demo: https:/...</td>\n",
       "    </tr>\n",
       "  </tbody>\n",
       "</table>\n",
       "<p>190 rows × 3 columns</p>\n",
       "</div>"
      ],
      "text/plain": [
       "                            repo    language  \\\n",
       "0      freeCodeCamp/freeCodeCamp  JavaScript   \n",
       "1                 996icu/996.ICU        Rust   \n",
       "2                      vuejs/vue  JavaScript   \n",
       "3                 facebook/react  JavaScript   \n",
       "4          tensorflow/tensorflow         C++   \n",
       "..                           ...         ...   \n",
       "85   Trinea/android-open-project        None   \n",
       "86        PhilJay/MPAndroidChart        Java   \n",
       "87  tiimgreen/github-cheat-sheet        None   \n",
       "88                 XX-net/XX-Net      Python   \n",
       "89       sahat/hackathon-starter  JavaScript   \n",
       "\n",
       "                                               readme  \n",
       "0   \\n\\n\\n\\n\\n\\nfreeCodeCamp.org's open-source cod...  \n",
       "1   \\n996.ICU\\nPlease note that there exists NO ot...  \n",
       "2   \\n\\n\\n\\n\\n\\n\\n\\n\\n\\n\\n\\nSupporting Vue.js\\nVue...  \n",
       "3   \\nReact ·    \\nReact is a JavaScript library f...  \n",
       "4   \\n\\n\\n\\n\\n\\n\\nDocumentation\\n\\n\\n\\n\\n\\n\\n\\n\\nT...  \n",
       "..                                                ...  \n",
       "85  \\nAndroid 开源项目分类汇总，更全更新可见 codekk.com\\nOther: E...  \n",
       "86  \\n\\n\\n\\n\\n\\n\\n⚡️ A powerful & easy to use char...  \n",
       "87  \\nGitHub Cheat Sheet \\nA collection of cool hi...  \n",
       "88  \\nXX-Net\\n中文文档      English      فارسی صفحه اص...  \n",
       "89  \\n\\nHackathon Starter\\n   \\nLive Demo: https:/...  \n",
       "\n",
       "[190 rows x 3 columns]"
      ]
     },
     "execution_count": 5,
     "metadata": {},
     "output_type": "execute_result"
    }
   ],
   "source": [
    "df"
   ]
  },
  {
   "cell_type": "markdown",
   "metadata": {},
   "source": [
    "## Prepare"
   ]
  },
  {
   "cell_type": "code",
   "execution_count": 6,
   "metadata": {},
   "outputs": [
    {
     "data": {
      "text/plain": [
       "JavaScript          59\n",
       "None                29\n",
       "Python              21\n",
       "Java                15\n",
       "C++                 12\n",
       "Go                   9\n",
       "TypeScript           9\n",
       "CSS                  5\n",
       "C                    4\n",
       "Vue                  3\n",
       "Ruby                 3\n",
       "PHP                  2\n",
       "Shell                2\n",
       "Jupyter Notebook     2\n",
       "HTML                 2\n",
       "Rust                 2\n",
       "Kotlin               2\n",
       "Swift                2\n",
       "Dart                 1\n",
       "Assembly             1\n",
       "C#                   1\n",
       "Vim script           1\n",
       "Clojure              1\n",
       "Objective-C          1\n",
       "Dockerfile           1\n",
       "Name: language, dtype: int64"
      ]
     },
     "execution_count": 6,
     "metadata": {},
     "output_type": "execute_result"
    }
   ],
   "source": [
    "df.language.value_counts(dropna=False)"
   ]
  },
  {
   "cell_type": "markdown",
   "metadata": {},
   "source": [
    "Using the `prepare.cut_singles` function, retain only the top ten language and their respective rows."
   ]
  },
  {
   "cell_type": "code",
   "execution_count": 7,
   "metadata": {},
   "outputs": [],
   "source": [
    "df = prepare.cut_singles(df)"
   ]
  },
  {
   "cell_type": "code",
   "execution_count": 8,
   "metadata": {},
   "outputs": [
    {
     "data": {
      "text/plain": [
       "JavaScript    59\n",
       "None          29\n",
       "Python        21\n",
       "Java          15\n",
       "C++           12\n",
       "TypeScript     9\n",
       "Go             9\n",
       "CSS            5\n",
       "C              4\n",
       "Vue            3\n",
       "Name: language, dtype: int64"
      ]
     },
     "execution_count": 8,
     "metadata": {},
     "output_type": "execute_result"
    }
   ],
   "source": [
    "df.language.value_counts()"
   ]
  },
  {
   "cell_type": "code",
   "execution_count": 9,
   "metadata": {},
   "outputs": [
    {
     "name": "stdout",
     "output_type": "stream",
     "text": [
      "<class 'pandas.core.frame.DataFrame'>\n",
      "Int64Index: 166 entries, 0 to 89\n",
      "Data columns (total 3 columns):\n",
      "repo        166 non-null object\n",
      "language    166 non-null object\n",
      "readme      166 non-null object\n",
      "dtypes: object(3)\n",
      "memory usage: 5.2+ KB\n"
     ]
    }
   ],
   "source": [
    "df.info()"
   ]
  },
  {
   "cell_type": "code",
   "execution_count": 10,
   "metadata": {},
   "outputs": [],
   "source": [
    "df['prepared'] = df.readme.apply(prepare.basic_clean).apply(prepare.remove_stopwords).apply(prepare.lemmatize)"
   ]
  },
  {
   "cell_type": "code",
   "execution_count": 11,
   "metadata": {},
   "outputs": [
    {
     "data": {
      "text/html": [
       "<div>\n",
       "<style scoped>\n",
       "    .dataframe tbody tr th:only-of-type {\n",
       "        vertical-align: middle;\n",
       "    }\n",
       "\n",
       "    .dataframe tbody tr th {\n",
       "        vertical-align: top;\n",
       "    }\n",
       "\n",
       "    .dataframe thead th {\n",
       "        text-align: right;\n",
       "    }\n",
       "</style>\n",
       "<table border=\"1\" class=\"dataframe\">\n",
       "  <thead>\n",
       "    <tr style=\"text-align: right;\">\n",
       "      <th></th>\n",
       "      <th>repo</th>\n",
       "      <th>language</th>\n",
       "      <th>readme</th>\n",
       "      <th>prepared</th>\n",
       "    </tr>\n",
       "  </thead>\n",
       "  <tbody>\n",
       "    <tr>\n",
       "      <th>0</th>\n",
       "      <td>freeCodeCamp/freeCodeCamp</td>\n",
       "      <td>JavaScript</td>\n",
       "      <td>\\n\\n\\n\\n\\n\\nfreeCodeCamp.org's open-source cod...</td>\n",
       "      <td>freecodecamporg's opensource codebase curricul...</td>\n",
       "    </tr>\n",
       "    <tr>\n",
       "      <th>2</th>\n",
       "      <td>vuejs/vue</td>\n",
       "      <td>JavaScript</td>\n",
       "      <td>\\n\\n\\n\\n\\n\\n\\n\\n\\n\\n\\n\\nSupporting Vue.js\\nVue...</td>\n",
       "      <td>supporting vuejs vuejs mitlicensed open source...</td>\n",
       "    </tr>\n",
       "    <tr>\n",
       "      <th>3</th>\n",
       "      <td>facebook/react</td>\n",
       "      <td>JavaScript</td>\n",
       "      <td>\\nReact ·    \\nReact is a JavaScript library f...</td>\n",
       "      <td>react react javascript library building user i...</td>\n",
       "    </tr>\n",
       "    <tr>\n",
       "      <th>4</th>\n",
       "      <td>tensorflow/tensorflow</td>\n",
       "      <td>C++</td>\n",
       "      <td>\\n\\n\\n\\n\\n\\n\\nDocumentation\\n\\n\\n\\n\\n\\n\\n\\n\\nT...</td>\n",
       "      <td>documentation tensorflow endtoend open source ...</td>\n",
       "    </tr>\n",
       "    <tr>\n",
       "      <th>5</th>\n",
       "      <td>twbs/bootstrap</td>\n",
       "      <td>JavaScript</td>\n",
       "      <td>\\n\\n\\n\\n\\n\\nBootstrap\\n\\n  Sleek, intuitive, a...</td>\n",
       "      <td>bootstrap sleek intuitive powerful frontend fr...</td>\n",
       "    </tr>\n",
       "    <tr>\n",
       "      <th>...</th>\n",
       "      <td>...</td>\n",
       "      <td>...</td>\n",
       "      <td>...</td>\n",
       "      <td>...</td>\n",
       "    </tr>\n",
       "    <tr>\n",
       "      <th>85</th>\n",
       "      <td>Trinea/android-open-project</td>\n",
       "      <td>None</td>\n",
       "      <td>\\nAndroid 开源项目分类汇总，更全更新可见 codekk.com\\nOther: E...</td>\n",
       "      <td>android codekkcom english version website vers...</td>\n",
       "    </tr>\n",
       "    <tr>\n",
       "      <th>86</th>\n",
       "      <td>PhilJay/MPAndroidChart</td>\n",
       "      <td>Java</td>\n",
       "      <td>\\n\\n\\n\\n\\n\\n\\n⚡️ A powerful &amp; easy to use char...</td>\n",
       "      <td>powerful easy use chart library android chart ...</td>\n",
       "    </tr>\n",
       "    <tr>\n",
       "      <th>87</th>\n",
       "      <td>tiimgreen/github-cheat-sheet</td>\n",
       "      <td>None</td>\n",
       "      <td>\\nGitHub Cheat Sheet \\nA collection of cool hi...</td>\n",
       "      <td>github cheat sheet collection cool hidden hidd...</td>\n",
       "    </tr>\n",
       "    <tr>\n",
       "      <th>88</th>\n",
       "      <td>XX-net/XX-Net</td>\n",
       "      <td>Python</td>\n",
       "      <td>\\nXX-Net\\n中文文档      English      فارسی صفحه اص...</td>\n",
       "      <td>xxnet english gaeproxyxtunnel gaeproxy xtunnel...</td>\n",
       "    </tr>\n",
       "    <tr>\n",
       "      <th>89</th>\n",
       "      <td>sahat/hackathon-starter</td>\n",
       "      <td>JavaScript</td>\n",
       "      <td>\\n\\nHackathon Starter\\n   \\nLive Demo: https:/...</td>\n",
       "      <td>hackathon starter live demo httpshackathonstar...</td>\n",
       "    </tr>\n",
       "  </tbody>\n",
       "</table>\n",
       "<p>166 rows × 4 columns</p>\n",
       "</div>"
      ],
      "text/plain": [
       "                            repo    language  \\\n",
       "0      freeCodeCamp/freeCodeCamp  JavaScript   \n",
       "2                      vuejs/vue  JavaScript   \n",
       "3                 facebook/react  JavaScript   \n",
       "4          tensorflow/tensorflow         C++   \n",
       "5                 twbs/bootstrap  JavaScript   \n",
       "..                           ...         ...   \n",
       "85   Trinea/android-open-project        None   \n",
       "86        PhilJay/MPAndroidChart        Java   \n",
       "87  tiimgreen/github-cheat-sheet        None   \n",
       "88                 XX-net/XX-Net      Python   \n",
       "89       sahat/hackathon-starter  JavaScript   \n",
       "\n",
       "                                               readme  \\\n",
       "0   \\n\\n\\n\\n\\n\\nfreeCodeCamp.org's open-source cod...   \n",
       "2   \\n\\n\\n\\n\\n\\n\\n\\n\\n\\n\\n\\nSupporting Vue.js\\nVue...   \n",
       "3   \\nReact ·    \\nReact is a JavaScript library f...   \n",
       "4   \\n\\n\\n\\n\\n\\n\\nDocumentation\\n\\n\\n\\n\\n\\n\\n\\n\\nT...   \n",
       "5   \\n\\n\\n\\n\\n\\nBootstrap\\n\\n  Sleek, intuitive, a...   \n",
       "..                                                ...   \n",
       "85  \\nAndroid 开源项目分类汇总，更全更新可见 codekk.com\\nOther: E...   \n",
       "86  \\n\\n\\n\\n\\n\\n\\n⚡️ A powerful & easy to use char...   \n",
       "87  \\nGitHub Cheat Sheet \\nA collection of cool hi...   \n",
       "88  \\nXX-Net\\n中文文档      English      فارسی صفحه اص...   \n",
       "89  \\n\\nHackathon Starter\\n   \\nLive Demo: https:/...   \n",
       "\n",
       "                                             prepared  \n",
       "0   freecodecamporg's opensource codebase curricul...  \n",
       "2   supporting vuejs vuejs mitlicensed open source...  \n",
       "3   react react javascript library building user i...  \n",
       "4   documentation tensorflow endtoend open source ...  \n",
       "5   bootstrap sleek intuitive powerful frontend fr...  \n",
       "..                                                ...  \n",
       "85  android codekkcom english version website vers...  \n",
       "86  powerful easy use chart library android chart ...  \n",
       "87  github cheat sheet collection cool hidden hidd...  \n",
       "88  xxnet english gaeproxyxtunnel gaeproxy xtunnel...  \n",
       "89  hackathon starter live demo httpshackathonstar...  \n",
       "\n",
       "[166 rows x 4 columns]"
      ]
     },
     "execution_count": 11,
     "metadata": {},
     "output_type": "execute_result"
    }
   ],
   "source": [
    "df"
   ]
  },
  {
   "cell_type": "markdown",
   "metadata": {},
   "source": [
    "## Explore"
   ]
  },
  {
   "cell_type": "markdown",
   "metadata": {},
   "source": [
    "The breakdown of programming languages "
   ]
  },
  {
   "cell_type": "code",
   "execution_count": 12,
   "metadata": {},
   "outputs": [
    {
     "data": {
      "text/html": [
       "<div>\n",
       "<style scoped>\n",
       "    .dataframe tbody tr th:only-of-type {\n",
       "        vertical-align: middle;\n",
       "    }\n",
       "\n",
       "    .dataframe tbody tr th {\n",
       "        vertical-align: top;\n",
       "    }\n",
       "\n",
       "    .dataframe thead th {\n",
       "        text-align: right;\n",
       "    }\n",
       "</style>\n",
       "<table border=\"1\" class=\"dataframe\">\n",
       "  <thead>\n",
       "    <tr style=\"text-align: right;\">\n",
       "      <th></th>\n",
       "      <th>n</th>\n",
       "      <th>percent</th>\n",
       "    </tr>\n",
       "  </thead>\n",
       "  <tbody>\n",
       "    <tr>\n",
       "      <th>JavaScript</th>\n",
       "      <td>59</td>\n",
       "      <td>0.355422</td>\n",
       "    </tr>\n",
       "    <tr>\n",
       "      <th>None</th>\n",
       "      <td>29</td>\n",
       "      <td>0.174699</td>\n",
       "    </tr>\n",
       "    <tr>\n",
       "      <th>Python</th>\n",
       "      <td>21</td>\n",
       "      <td>0.126506</td>\n",
       "    </tr>\n",
       "    <tr>\n",
       "      <th>Java</th>\n",
       "      <td>15</td>\n",
       "      <td>0.090361</td>\n",
       "    </tr>\n",
       "    <tr>\n",
       "      <th>C++</th>\n",
       "      <td>12</td>\n",
       "      <td>0.072289</td>\n",
       "    </tr>\n",
       "    <tr>\n",
       "      <th>TypeScript</th>\n",
       "      <td>9</td>\n",
       "      <td>0.054217</td>\n",
       "    </tr>\n",
       "    <tr>\n",
       "      <th>Go</th>\n",
       "      <td>9</td>\n",
       "      <td>0.054217</td>\n",
       "    </tr>\n",
       "    <tr>\n",
       "      <th>CSS</th>\n",
       "      <td>5</td>\n",
       "      <td>0.030120</td>\n",
       "    </tr>\n",
       "    <tr>\n",
       "      <th>C</th>\n",
       "      <td>4</td>\n",
       "      <td>0.024096</td>\n",
       "    </tr>\n",
       "    <tr>\n",
       "      <th>Vue</th>\n",
       "      <td>3</td>\n",
       "      <td>0.018072</td>\n",
       "    </tr>\n",
       "  </tbody>\n",
       "</table>\n",
       "</div>"
      ],
      "text/plain": [
       "             n   percent\n",
       "JavaScript  59  0.355422\n",
       "None        29  0.174699\n",
       "Python      21  0.126506\n",
       "Java        15  0.090361\n",
       "C++         12  0.072289\n",
       "TypeScript   9  0.054217\n",
       "Go           9  0.054217\n",
       "CSS          5  0.030120\n",
       "C            4  0.024096\n",
       "Vue          3  0.018072"
      ]
     },
     "execution_count": 12,
     "metadata": {},
     "output_type": "execute_result"
    }
   ],
   "source": [
    "explore.count_percent(df)"
   ]
  },
  {
   "cell_type": "markdown",
   "metadata": {},
   "source": [
    "Explore the lengths of readmes based on their respective programming language"
   ]
  },
  {
   "cell_type": "code",
   "execution_count": 13,
   "metadata": {},
   "outputs": [
    {
     "data": {
      "text/html": [
       "<div>\n",
       "<style scoped>\n",
       "    .dataframe tbody tr th:only-of-type {\n",
       "        vertical-align: middle;\n",
       "    }\n",
       "\n",
       "    .dataframe tbody tr th {\n",
       "        vertical-align: top;\n",
       "    }\n",
       "\n",
       "    .dataframe thead th {\n",
       "        text-align: right;\n",
       "    }\n",
       "</style>\n",
       "<table border=\"1\" class=\"dataframe\">\n",
       "  <thead>\n",
       "    <tr style=\"text-align: right;\">\n",
       "      <th></th>\n",
       "      <th>min</th>\n",
       "      <th>mean</th>\n",
       "      <th>max</th>\n",
       "    </tr>\n",
       "    <tr>\n",
       "      <th>language</th>\n",
       "      <th></th>\n",
       "      <th></th>\n",
       "      <th></th>\n",
       "    </tr>\n",
       "  </thead>\n",
       "  <tbody>\n",
       "    <tr>\n",
       "      <th>C</th>\n",
       "      <td>98</td>\n",
       "      <td>2423.500000</td>\n",
       "      <td>6075</td>\n",
       "    </tr>\n",
       "    <tr>\n",
       "      <th>C++</th>\n",
       "      <td>59</td>\n",
       "      <td>758.500000</td>\n",
       "      <td>2288</td>\n",
       "    </tr>\n",
       "    <tr>\n",
       "      <th>CSS</th>\n",
       "      <td>228</td>\n",
       "      <td>475.800000</td>\n",
       "      <td>821</td>\n",
       "    </tr>\n",
       "    <tr>\n",
       "      <th>Go</th>\n",
       "      <td>65</td>\n",
       "      <td>3634.555556</td>\n",
       "      <td>21653</td>\n",
       "    </tr>\n",
       "    <tr>\n",
       "      <th>Java</th>\n",
       "      <td>126</td>\n",
       "      <td>848.800000</td>\n",
       "      <td>3568</td>\n",
       "    </tr>\n",
       "    <tr>\n",
       "      <th>JavaScript</th>\n",
       "      <td>73</td>\n",
       "      <td>2133.033898</td>\n",
       "      <td>19624</td>\n",
       "    </tr>\n",
       "    <tr>\n",
       "      <th>None</th>\n",
       "      <td>70</td>\n",
       "      <td>4422.206897</td>\n",
       "      <td>25882</td>\n",
       "    </tr>\n",
       "    <tr>\n",
       "      <th>Python</th>\n",
       "      <td>4</td>\n",
       "      <td>3071.333333</td>\n",
       "      <td>13706</td>\n",
       "    </tr>\n",
       "    <tr>\n",
       "      <th>TypeScript</th>\n",
       "      <td>52</td>\n",
       "      <td>588.777778</td>\n",
       "      <td>2641</td>\n",
       "    </tr>\n",
       "    <tr>\n",
       "      <th>Vue</th>\n",
       "      <td>326</td>\n",
       "      <td>619.000000</td>\n",
       "      <td>958</td>\n",
       "    </tr>\n",
       "  </tbody>\n",
       "</table>\n",
       "</div>"
      ],
      "text/plain": [
       "            min         mean    max\n",
       "language                           \n",
       "C            98  2423.500000   6075\n",
       "C++          59   758.500000   2288\n",
       "CSS         228   475.800000    821\n",
       "Go           65  3634.555556  21653\n",
       "Java        126   848.800000   3568\n",
       "JavaScript   73  2133.033898  19624\n",
       "None         70  4422.206897  25882\n",
       "Python        4  3071.333333  13706\n",
       "TypeScript   52   588.777778   2641\n",
       "Vue         326   619.000000    958"
      ]
     },
     "execution_count": 13,
     "metadata": {},
     "output_type": "execute_result"
    }
   ],
   "source": [
    "explore.readme_length(df)"
   ]
  },
  {
   "cell_type": "code",
   "execution_count": 17,
   "metadata": {},
   "outputs": [
    {
     "data": {
      "image/png": "[encoded data removed]",
      "text/plain": [
       "<Figure size 432x288 with 1 Axes>"
      ]
     },
     "metadata": {
      "needs_background": "light"
     },
     "output_type": "display_data"
    }
   ],
   "source": [
    "explore.readme_length(df).plot.bar()\n",
    "plt.show()"
   ]
  },
  {
   "cell_type": "markdown",
   "metadata": {},
   "source": [
    "## Split"
   ]
  },
  {
   "cell_type": "markdown",
   "metadata": {},
   "source": [
    "The data is broken into training and testing sets. In this instance it will be a 70/30 split."
   ]
  },
  {
   "cell_type": "code",
   "execution_count": 18,
   "metadata": {},
   "outputs": [],
   "source": [
    "X_train, X_test, train, test = model.make_model_components(df.prepared, df.language, .30)"
   ]
  },
  {
   "cell_type": "markdown",
   "metadata": {},
   "source": [
    "## Model - Decision Tree"
   ]
  },
  {
   "cell_type": "code",
   "execution_count": 19,
   "metadata": {},
   "outputs": [],
   "source": [
    "classifier = model.make_tree_model(X_train, train.actual)"
   ]
  },
  {
   "cell_type": "code",
   "execution_count": 20,
   "metadata": {},
   "outputs": [],
   "source": [
    "training_predictions = classifier.predict(X_train)\n",
    "train['predictions'] = training_predictions\n",
    "test_predictions = classifier.predict(X_test)\n",
    "test['predictions'] = test_predictions"
   ]
  },
  {
   "cell_type": "markdown",
   "metadata": {},
   "source": [
    "#### Accuracy scores for the model on the Training set"
   ]
  },
  {
   "cell_type": "code",
   "execution_count": 21,
   "metadata": {},
   "outputs": [
    {
     "name": "stdout",
     "output_type": "stream",
     "text": [
      "Accuracy: 75.86%\n",
      "---\n",
      "Confusion Matrix\n",
      "actual       C  C++  CSS  Go  Java  JavaScript  None  Python  TypeScript  Vue\n",
      "predictions                                                                  \n",
      "C++          0    1    0   0     0           0     0       0           0    0\n",
      "CSS          0    0    2   0     0           0     0       0           0    0\n",
      "Go           3    4    1   6     1           2     4       3           3    0\n",
      "Java         0    0    0   0    10           0     0       0           0    0\n",
      "JavaScript   0    0    1   0     0          38     0       0           0    0\n",
      "None         0    0    0   0     0           0    16       0           0    0\n",
      "Python       0    3    0   0     0           1     0      12           0    0\n",
      "TypeScript   0    0    0   0     0           0     0       0           3    2\n",
      "---\n",
      "              precision    recall  f1-score   support\n",
      "\n",
      "           C       0.00      0.00      0.00         3\n",
      "         C++       1.00      0.12      0.22         8\n",
      "         CSS       1.00      0.50      0.67         4\n",
      "          Go       0.22      1.00      0.36         6\n",
      "        Java       1.00      0.91      0.95        11\n",
      "  JavaScript       0.97      0.93      0.95        41\n",
      "        None       1.00      0.80      0.89        20\n",
      "      Python       0.75      0.80      0.77        15\n",
      "  TypeScript       0.60      0.50      0.55         6\n",
      "         Vue       0.00      0.00      0.00         2\n",
      "\n",
      "    accuracy                           0.76       116\n",
      "   macro avg       0.65      0.56      0.54       116\n",
      "weighted avg       0.85      0.76      0.76       116\n",
      "\n"
     ]
    }
   ],
   "source": [
    "model.score_your_model(train.actual, train.predictions)"
   ]
  },
  {
   "cell_type": "markdown",
   "metadata": {},
   "source": [
    "#### Accuracy scores for the model on the Test set"
   ]
  },
  {
   "cell_type": "code",
   "execution_count": 22,
   "metadata": {},
   "outputs": [
    {
     "name": "stdout",
     "output_type": "stream",
     "text": [
      "Accuracy: 48.00%\n",
      "---\n",
      "Confusion Matrix\n",
      "actual       C  C++  CSS  Go  Java  JavaScript  None  Python  TypeScript  Vue\n",
      "predictions                                                                  \n",
      "C++          0    1    0   0     0           2     0       0           0    0\n",
      "CSS          0    0    0   0     0           1     0       0           0    0\n",
      "Go           1    1    0   2     1           1     3       1           1    0\n",
      "Java         0    0    0   0     3           0     0       0           0    0\n",
      "JavaScript   0    1    1   0     0          12     3       0           2    1\n",
      "None         0    0    0   1     0           0     3       2           0    0\n",
      "Python       0    1    0   0     0           1     0       3           0    0\n",
      "TypeScript   0    0    0   0     0           1     0       0           0    0\n",
      "---\n",
      "              precision    recall  f1-score   support\n",
      "\n",
      "           C       0.00      0.00      0.00         1\n",
      "         C++       0.33      0.25      0.29         4\n",
      "         CSS       0.00      0.00      0.00         1\n",
      "          Go       0.18      0.67      0.29         3\n",
      "        Java       1.00      0.75      0.86         4\n",
      "  JavaScript       0.60      0.67      0.63        18\n",
      "        None       0.50      0.33      0.40         9\n",
      "      Python       0.60      0.50      0.55         6\n",
      "  TypeScript       0.00      0.00      0.00         3\n",
      "         Vue       0.00      0.00      0.00         1\n",
      "\n",
      "    accuracy                           0.48        50\n",
      "   macro avg       0.32      0.32      0.30        50\n",
      "weighted avg       0.50      0.48      0.47        50\n",
      "\n"
     ]
    }
   ],
   "source": [
    "model.score_your_model(test.actual, test.predictions)"
   ]
  },
  {
   "cell_type": "markdown",
   "metadata": {},
   "source": [
    "## Model - Random Forest"
   ]
  },
  {
   "cell_type": "code",
   "execution_count": 94,
   "metadata": {},
   "outputs": [],
   "source": [
    "from sklearn.ensemble import RandomForestClassifier\n",
    "\n",
    "def make_forest_model(X,y,depth=20,trees=100):\n",
    "    rf = RandomForestClassifier(max_depth=depth, n_estimators=trees, random_state=42).fit(X, y)\n",
    "    return rf"
   ]
  },
  {
   "cell_type": "code",
   "execution_count": 99,
   "metadata": {},
   "outputs": [],
   "source": [
    "classifier = make_forest_model(X_train, train.actual, depth=10, trees=5)"
   ]
  },
  {
   "cell_type": "code",
   "execution_count": 100,
   "metadata": {},
   "outputs": [],
   "source": [
    "training_predictions = classifier.predict(X_train)\n",
    "train['predictions'] = training_predictions\n",
    "test_predictions = classifier.predict(X_test)\n",
    "test['predictions'] = test_predictions"
   ]
  },
  {
   "cell_type": "code",
   "execution_count": 101,
   "metadata": {},
   "outputs": [
    {
     "name": "stdout",
     "output_type": "stream",
     "text": [
      "Accuracy: 75.00%\n",
      "---\n",
      "Confusion Matrix\n",
      "actual       C  C++  CSS  Go  Java  JavaScript  None  Python  TypeScript  Vue\n",
      "predictions                                                                  \n",
      "C            2    0    0   0     0           0     0       0           0    0\n",
      "C++          0    2    0   0     0           0     0       0           0    0\n",
      "CSS          0    0    3   0     0           0     0       0           0    0\n",
      "Go           0    0    0   4     0           0     0       0           0    0\n",
      "Java         0    0    0   0     5           1     0       0           0    0\n",
      "JavaScript   1    4    1   2     6          40     2       4           5    0\n",
      "None         0    1    0   0     0           0    18       0           1    0\n",
      "Python       0    1    0   0     0           0     0      11           0    0\n",
      "Vue          0    0    0   0     0           0     0       0           0    2\n",
      "---\n",
      "              precision    recall  f1-score   support\n",
      "\n",
      "           C       1.00      0.67      0.80         3\n",
      "         C++       1.00      0.25      0.40         8\n",
      "         CSS       1.00      0.75      0.86         4\n",
      "          Go       1.00      0.67      0.80         6\n",
      "        Java       0.83      0.45      0.59        11\n",
      "  JavaScript       0.62      0.98      0.75        41\n",
      "        None       0.90      0.90      0.90        20\n",
      "      Python       0.92      0.73      0.81        15\n",
      "  TypeScript       0.00      0.00      0.00         6\n",
      "         Vue       1.00      1.00      1.00         2\n",
      "\n",
      "    accuracy                           0.75       116\n",
      "   macro avg       0.83      0.64      0.69       116\n",
      "weighted avg       0.77      0.75      0.72       116\n",
      "\n"
     ]
    }
   ],
   "source": [
    "model.score_your_model(train.actual, train.predictions)"
   ]
  },
  {
   "cell_type": "code",
   "execution_count": 102,
   "metadata": {},
   "outputs": [
    {
     "name": "stdout",
     "output_type": "stream",
     "text": [
      "Accuracy: 36.00%\n",
      "---\n",
      "Confusion Matrix\n",
      "actual       C  C++  CSS  Go  Java  JavaScript  None  Python  TypeScript  Vue\n",
      "predictions                                                                  \n",
      "C++          0    0    0   0     0           1     0       0           0    0\n",
      "JavaScript   1    4    1   2     4          15     7       4           3    1\n",
      "None         0    0    0   1     0           0     2       0           0    0\n",
      "Python       0    0    0   0     0           2     0       1           0    0\n",
      "TypeScript   0    0    0   0     0           0     0       1           0    0\n",
      "---\n",
      "              precision    recall  f1-score   support\n",
      "\n",
      "           C       0.00      0.00      0.00         1\n",
      "         C++       0.00      0.00      0.00         4\n",
      "         CSS       0.00      0.00      0.00         1\n",
      "          Go       0.00      0.00      0.00         3\n",
      "        Java       0.00      0.00      0.00         4\n",
      "  JavaScript       0.36      0.83      0.50        18\n",
      "        None       0.67      0.22      0.33         9\n",
      "      Python       0.33      0.17      0.22         6\n",
      "  TypeScript       0.00      0.00      0.00         3\n",
      "         Vue       0.00      0.00      0.00         1\n",
      "\n",
      "    accuracy                           0.36        50\n",
      "   macro avg       0.14      0.12      0.11        50\n",
      "weighted avg       0.29      0.36      0.27        50\n",
      "\n"
     ]
    }
   ],
   "source": [
    "model.score_your_model(test.actual, test.predictions)"
   ]
  },
  {
   "cell_type": "code",
   "execution_count": null,
   "metadata": {},
   "outputs": [],
   "source": []
  },
  {
   "cell_type": "code",
   "execution_count": null,
   "metadata": {},
   "outputs": [],
   "source": []
  }
 ],
 "metadata": {
  "kernelspec": {
   "display_name": "Python 3",
   "language": "python",
   "name": "python3"
  },
  "language_info": {
   "codemirror_mode": {
    "name": "ipython",
    "version": 3
   },
   "file_extension": ".py",
   "mimetype": "text/x-python",
   "name": "python",
   "nbconvert_exporter": "python",
   "pygments_lexer": "ipython3",
   "version": "3.7.3"
  },
  "toc": {
   "base_numbering": 1,
   "nav_menu": {},
   "number_sections": false,
   "sideBar": true,
   "skip_h1_title": true,
   "title_cell": "Table of Contents",
   "title_sidebar": "Contents",
   "toc_cell": false,
   "toc_position": {},
   "toc_section_display": true,
   "toc_window_display": false
  }
 },
 "nbformat": 4,
 "nbformat_minor": 2
}
