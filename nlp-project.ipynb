{
 "cells": [
  {
   "cell_type": "markdown",
   "metadata": {},
   "source": [
    "# Hey README, what language is your program? "
   ]
  },
  {
   "cell_type": "code",
   "execution_count": 1,
   "metadata": {},
   "outputs": [],
   "source": [
    "# data wrangling\n",
    "import pandas as pd\n",
    "import numpy as np\n",
    "import json\n",
    "\n",
    "#visuals\n",
    "import matplotlib.pyplot as plt\n",
    "import seaborn as sns\n",
    "\n",
    "# modules\n",
    "import acquire\n",
    "import prepare\n",
    "\n",
    "# ignore warnings\n",
    "import warnings\n",
    "warnings.filterwarnings(\"ignore\")"
   ]
  },
  {
   "cell_type": "markdown",
   "metadata": {},
   "source": [
    "## Acquire"
   ]
  },
  {
   "cell_type": "markdown",
   "metadata": {},
   "source": [
    "A list of 100 pages to scrape are generated using the `acquire.loop_through_urls` function. They are saved to a csv and that csv file is being read for further manipulation. "
   ]
  },
  {
   "cell_type": "code",
   "execution_count": 2,
   "metadata": {},
   "outputs": [],
   "source": [
    "# to_scrape = acquire.loop_through_urls()\n",
    "# to_scrape = pd.DataFrame(to_scrape)\n",
    "# to_scrape.to_csv(\"URL_list_100_final.csv\")"
   ]
  },
  {
   "cell_type": "code",
   "execution_count": 3,
   "metadata": {},
   "outputs": [
    {
     "data": {
      "text/html": [
       "<div>\n",
       "<style scoped>\n",
       "    .dataframe tbody tr th:only-of-type {\n",
       "        vertical-align: middle;\n",
       "    }\n",
       "\n",
       "    .dataframe tbody tr th {\n",
       "        vertical-align: top;\n",
       "    }\n",
       "\n",
       "    .dataframe thead th {\n",
       "        text-align: right;\n",
       "    }\n",
       "</style>\n",
       "<table border=\"1\" class=\"dataframe\">\n",
       "  <thead>\n",
       "    <tr style=\"text-align: right;\">\n",
       "      <th></th>\n",
       "      <th>page</th>\n",
       "    </tr>\n",
       "  </thead>\n",
       "  <tbody>\n",
       "    <tr>\n",
       "      <th>0</th>\n",
       "      <td>http://github.com/freeCodeCamp/freeCodeCamp</td>\n",
       "    </tr>\n",
       "    <tr>\n",
       "      <th>1</th>\n",
       "      <td>http://github.com/996icu/996.ICU</td>\n",
       "    </tr>\n",
       "    <tr>\n",
       "      <th>2</th>\n",
       "      <td>http://github.com/vuejs/vue</td>\n",
       "    </tr>\n",
       "    <tr>\n",
       "      <th>3</th>\n",
       "      <td>http://github.com/facebook/react</td>\n",
       "    </tr>\n",
       "    <tr>\n",
       "      <th>4</th>\n",
       "      <td>http://github.com/tensorflow/tensorflow</td>\n",
       "    </tr>\n",
       "    <tr>\n",
       "      <th>...</th>\n",
       "      <td>...</td>\n",
       "    </tr>\n",
       "    <tr>\n",
       "      <th>95</th>\n",
       "      <td>http://github.com/ansible/ansible</td>\n",
       "    </tr>\n",
       "    <tr>\n",
       "      <th>96</th>\n",
       "      <td>http://github.com/kdn251/interviews</td>\n",
       "    </tr>\n",
       "    <tr>\n",
       "      <th>97</th>\n",
       "      <td>http://github.com/gatsbyjs/gatsby</td>\n",
       "    </tr>\n",
       "    <tr>\n",
       "      <th>98</th>\n",
       "      <td>http://github.com/opencv/opencv</td>\n",
       "    </tr>\n",
       "    <tr>\n",
       "      <th>99</th>\n",
       "      <td>http://github.com/mtdvio/every-programmer-shou...</td>\n",
       "    </tr>\n",
       "  </tbody>\n",
       "</table>\n",
       "<p>100 rows × 1 columns</p>\n",
       "</div>"
      ],
      "text/plain": [
       "                                                 page\n",
       "0         http://github.com/freeCodeCamp/freeCodeCamp\n",
       "1                    http://github.com/996icu/996.ICU\n",
       "2                         http://github.com/vuejs/vue\n",
       "3                    http://github.com/facebook/react\n",
       "4             http://github.com/tensorflow/tensorflow\n",
       "..                                                ...\n",
       "95                  http://github.com/ansible/ansible\n",
       "96                http://github.com/kdn251/interviews\n",
       "97                  http://github.com/gatsbyjs/gatsby\n",
       "98                    http://github.com/opencv/opencv\n",
       "99  http://github.com/mtdvio/every-programmer-shou...\n",
       "\n",
       "[100 rows x 1 columns]"
      ]
     },
     "execution_count": 3,
     "metadata": {},
     "output_type": "execute_result"
    }
   ],
   "source": [
    "# read in list of pages generated from function \n",
    "pd.read_csv(\"URL_list_100.csv\", header=0, names=[\"page\"])"
   ]
  },
  {
   "cell_type": "markdown",
   "metadata": {},
   "source": [
    "The dataframe of 100 pages that was just created is looped through, and on each page, it's respective repository, language, and readme is extracted as a dictionary, using the `acquire.make_corpus` function. \n",
    "\n",
    "The `acquire.get_corpus` fuction checks to see if the data file is in the cache. If it is, it reads it in as a dataframe, if file is not in cache, the above mentioned function is run to generate it."
   ]
  },
  {
   "cell_type": "code",
   "execution_count": 4,
   "metadata": {},
   "outputs": [],
   "source": [
    "df = acquire.get_corpus()"
   ]
  },
  {
   "cell_type": "code",
   "execution_count": 5,
   "metadata": {},
   "outputs": [
    {
     "data": {
      "text/html": [
       "<div>\n",
       "<style scoped>\n",
       "    .dataframe tbody tr th:only-of-type {\n",
       "        vertical-align: middle;\n",
       "    }\n",
       "\n",
       "    .dataframe tbody tr th {\n",
       "        vertical-align: top;\n",
       "    }\n",
       "\n",
       "    .dataframe thead th {\n",
       "        text-align: right;\n",
       "    }\n",
       "</style>\n",
       "<table border=\"1\" class=\"dataframe\">\n",
       "  <thead>\n",
       "    <tr style=\"text-align: right;\">\n",
       "      <th></th>\n",
       "      <th>repo</th>\n",
       "      <th>language</th>\n",
       "      <th>readme</th>\n",
       "    </tr>\n",
       "  </thead>\n",
       "  <tbody>\n",
       "    <tr>\n",
       "      <th>0</th>\n",
       "      <td>freeCodeCamp/freeCodeCamp</td>\n",
       "      <td>JavaScript</td>\n",
       "      <td>\\n\\n\\n\\n\\n\\nfreeCodeCamp.org's open-source cod...</td>\n",
       "    </tr>\n",
       "    <tr>\n",
       "      <th>1</th>\n",
       "      <td>996icu/996.ICU</td>\n",
       "      <td>Rust</td>\n",
       "      <td>\\n996.ICU\\nPlease note that there exists NO ot...</td>\n",
       "    </tr>\n",
       "    <tr>\n",
       "      <th>2</th>\n",
       "      <td>vuejs/vue</td>\n",
       "      <td>JavaScript</td>\n",
       "      <td>\\n\\n\\n\\n\\n\\n\\n\\n\\n\\n\\n\\nSupporting Vue.js\\nVue...</td>\n",
       "    </tr>\n",
       "    <tr>\n",
       "      <th>3</th>\n",
       "      <td>facebook/react</td>\n",
       "      <td>JavaScript</td>\n",
       "      <td>\\nReact ·    \\nReact is a JavaScript library f...</td>\n",
       "    </tr>\n",
       "    <tr>\n",
       "      <th>4</th>\n",
       "      <td>tensorflow/tensorflow</td>\n",
       "      <td>C++</td>\n",
       "      <td>\\n\\n\\n\\n\\n\\n\\nDocumentation\\n\\n\\n\\n\\n\\n\\n\\n\\nT...</td>\n",
       "    </tr>\n",
       "    <tr>\n",
       "      <th>...</th>\n",
       "      <td>...</td>\n",
       "      <td>...</td>\n",
       "      <td>...</td>\n",
       "    </tr>\n",
       "    <tr>\n",
       "      <th>95</th>\n",
       "      <td>ansible/ansible</td>\n",
       "      <td>Python</td>\n",
       "      <td>\\n\\n \\n \\n  \\n \\n \\n\\n\\nAnsible\\nAnsible is a ...</td>\n",
       "    </tr>\n",
       "    <tr>\n",
       "      <th>96</th>\n",
       "      <td>kdn251/interviews</td>\n",
       "      <td>Java</td>\n",
       "      <td>\\nInterviews\\n\\nYour personal guide to Softwar...</td>\n",
       "    </tr>\n",
       "    <tr>\n",
       "      <th>97</th>\n",
       "      <td>gatsbyjs/gatsby</td>\n",
       "      <td>JavaScript</td>\n",
       "      <td>\\n\\n\\n\\n\\n\\n\\n  Gatsby v2\\n\\n\\n⚛️ 📄 🚀\\n\\n\\n  F...</td>\n",
       "    </tr>\n",
       "    <tr>\n",
       "      <th>98</th>\n",
       "      <td>opencv/opencv</td>\n",
       "      <td>C++</td>\n",
       "      <td>\\nOpenCV: Open Source Computer Vision Library\\...</td>\n",
       "    </tr>\n",
       "    <tr>\n",
       "      <th>99</th>\n",
       "      <td>mtdvio/every-programmer-should-know</td>\n",
       "      <td>None</td>\n",
       "      <td>\\n\\nJoin our community for professional Softwa...</td>\n",
       "    </tr>\n",
       "  </tbody>\n",
       "</table>\n",
       "<p>100 rows × 3 columns</p>\n",
       "</div>"
      ],
      "text/plain": [
       "                                   repo    language  \\\n",
       "0             freeCodeCamp/freeCodeCamp  JavaScript   \n",
       "1                        996icu/996.ICU        Rust   \n",
       "2                             vuejs/vue  JavaScript   \n",
       "3                        facebook/react  JavaScript   \n",
       "4                 tensorflow/tensorflow         C++   \n",
       "..                                  ...         ...   \n",
       "95                      ansible/ansible      Python   \n",
       "96                    kdn251/interviews        Java   \n",
       "97                      gatsbyjs/gatsby  JavaScript   \n",
       "98                        opencv/opencv         C++   \n",
       "99  mtdvio/every-programmer-should-know        None   \n",
       "\n",
       "                                               readme  \n",
       "0   \\n\\n\\n\\n\\n\\nfreeCodeCamp.org's open-source cod...  \n",
       "1   \\n996.ICU\\nPlease note that there exists NO ot...  \n",
       "2   \\n\\n\\n\\n\\n\\n\\n\\n\\n\\n\\n\\nSupporting Vue.js\\nVue...  \n",
       "3   \\nReact ·    \\nReact is a JavaScript library f...  \n",
       "4   \\n\\n\\n\\n\\n\\n\\nDocumentation\\n\\n\\n\\n\\n\\n\\n\\n\\nT...  \n",
       "..                                                ...  \n",
       "95  \\n\\n \\n \\n  \\n \\n \\n\\n\\nAnsible\\nAnsible is a ...  \n",
       "96  \\nInterviews\\n\\nYour personal guide to Softwar...  \n",
       "97  \\n\\n\\n\\n\\n\\n\\n  Gatsby v2\\n\\n\\n⚛️ 📄 🚀\\n\\n\\n  F...  \n",
       "98  \\nOpenCV: Open Source Computer Vision Library\\...  \n",
       "99  \\n\\nJoin our community for professional Softwa...  \n",
       "\n",
       "[100 rows x 3 columns]"
      ]
     },
     "execution_count": 5,
     "metadata": {},
     "output_type": "execute_result"
    }
   ],
   "source": [
    "df"
   ]
  },
  {
   "cell_type": "markdown",
   "metadata": {},
   "source": [
    "## Prepare"
   ]
  },
  {
   "cell_type": "code",
   "execution_count": null,
   "metadata": {},
   "outputs": [],
   "source": []
  }
 ],
 "metadata": {
  "kernelspec": {
   "display_name": "Python 3",
   "language": "python",
   "name": "python3"
  },
  "language_info": {
   "codemirror_mode": {
    "name": "ipython",
    "version": 3
   },
   "file_extension": ".py",
   "mimetype": "text/x-python",
   "name": "python",
   "nbconvert_exporter": "python",
   "pygments_lexer": "ipython3",
   "version": "3.7.3"
  },
  "toc": {
   "base_numbering": 1,
   "nav_menu": {},
   "number_sections": false,
   "sideBar": true,
   "skip_h1_title": true,
   "title_cell": "Table of Contents",
   "title_sidebar": "Contents",
   "toc_cell": false,
   "toc_position": {},
   "toc_section_display": true,
   "toc_window_display": false
  }
 },
 "nbformat": 4,
 "nbformat_minor": 2
}
